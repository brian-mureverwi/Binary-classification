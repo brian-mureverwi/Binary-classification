{
  "nbformat": 4,
  "nbformat_minor": 0,
  "metadata": {
    "colab": {
      "name": "Binary classification_NBA rookie stats.ipynb",
      "provenance": [],
      "collapsed_sections": []
    },
    "kernelspec": {
      "name": "python3",
      "display_name": "Python 3"
    },
    "language_info": {
      "name": "python"
    }
  },
  "cells": [
    {
      "cell_type": "code",
      "execution_count": 70,
      "metadata": {
        "id": "A_9qe6gWDD9S"
      },
      "outputs": [],
      "source": [
        "import pandas as pd\n",
        "import matplotlib.pyplot as plt\n",
        "import seaborn as sns\n",
        "import numpy as np\n",
        "\n",
        "data = \"/nba_logreg.csv\""
      ]
    },
    {
      "cell_type": "code",
      "source": [
        "data = pd.read_csv(\"/content/drive/MyDrive/DATA SCIENCE/NBA Logistic regression analysis/nba_logreg.csv\")\n",
        "data.head()"
      ],
      "metadata": {
        "colab": {
          "base_uri": "https://localhost:8080/",
          "height": 206
        },
        "id": "Mn1vI5oCEC9Y",
        "outputId": "35aedad0-3545-47ba-8449-88f101ddcc84"
      },
      "execution_count": 71,
      "outputs": [
        {
          "output_type": "execute_result",
          "data": {
            "text/html": [
              "\n",
              "  <div id=\"df-48eaf67b-c08d-498f-936a-cd97cafaf869\">\n",
              "    <div class=\"colab-df-container\">\n",
              "      <div>\n",
              "<style scoped>\n",
              "    .dataframe tbody tr th:only-of-type {\n",
              "        vertical-align: middle;\n",
              "    }\n",
              "\n",
              "    .dataframe tbody tr th {\n",
              "        vertical-align: top;\n",
              "    }\n",
              "\n",
              "    .dataframe thead th {\n",
              "        text-align: right;\n",
              "    }\n",
              "</style>\n",
              "<table border=\"1\" class=\"dataframe\">\n",
              "  <thead>\n",
              "    <tr style=\"text-align: right;\">\n",
              "      <th></th>\n",
              "      <th>Name</th>\n",
              "      <th>GP</th>\n",
              "      <th>MIN</th>\n",
              "      <th>PTS</th>\n",
              "      <th>FGM</th>\n",
              "      <th>FGA</th>\n",
              "      <th>FG%</th>\n",
              "      <th>3P Made</th>\n",
              "      <th>3PA</th>\n",
              "      <th>3P%</th>\n",
              "      <th>FTM</th>\n",
              "      <th>FTA</th>\n",
              "      <th>FT%</th>\n",
              "      <th>OREB</th>\n",
              "      <th>DREB</th>\n",
              "      <th>REB</th>\n",
              "      <th>AST</th>\n",
              "      <th>STL</th>\n",
              "      <th>BLK</th>\n",
              "      <th>TOV</th>\n",
              "      <th>TARGET_5Yrs</th>\n",
              "    </tr>\n",
              "  </thead>\n",
              "  <tbody>\n",
              "    <tr>\n",
              "      <th>0</th>\n",
              "      <td>Brandon Ingram</td>\n",
              "      <td>36</td>\n",
              "      <td>27.4</td>\n",
              "      <td>7.4</td>\n",
              "      <td>2.6</td>\n",
              "      <td>7.6</td>\n",
              "      <td>34.7</td>\n",
              "      <td>0.5</td>\n",
              "      <td>2.1</td>\n",
              "      <td>25.0</td>\n",
              "      <td>1.6</td>\n",
              "      <td>2.3</td>\n",
              "      <td>69.9</td>\n",
              "      <td>0.7</td>\n",
              "      <td>3.4</td>\n",
              "      <td>4.1</td>\n",
              "      <td>1.9</td>\n",
              "      <td>0.4</td>\n",
              "      <td>0.4</td>\n",
              "      <td>1.3</td>\n",
              "      <td>0.0</td>\n",
              "    </tr>\n",
              "    <tr>\n",
              "      <th>1</th>\n",
              "      <td>Andrew Harrison</td>\n",
              "      <td>35</td>\n",
              "      <td>26.9</td>\n",
              "      <td>7.2</td>\n",
              "      <td>2.0</td>\n",
              "      <td>6.7</td>\n",
              "      <td>29.6</td>\n",
              "      <td>0.7</td>\n",
              "      <td>2.8</td>\n",
              "      <td>23.5</td>\n",
              "      <td>2.6</td>\n",
              "      <td>3.4</td>\n",
              "      <td>76.5</td>\n",
              "      <td>0.5</td>\n",
              "      <td>2.0</td>\n",
              "      <td>2.4</td>\n",
              "      <td>3.7</td>\n",
              "      <td>1.1</td>\n",
              "      <td>0.5</td>\n",
              "      <td>1.6</td>\n",
              "      <td>0.0</td>\n",
              "    </tr>\n",
              "    <tr>\n",
              "      <th>2</th>\n",
              "      <td>JaKarr Sampson</td>\n",
              "      <td>74</td>\n",
              "      <td>15.3</td>\n",
              "      <td>5.2</td>\n",
              "      <td>2.0</td>\n",
              "      <td>4.7</td>\n",
              "      <td>42.2</td>\n",
              "      <td>0.4</td>\n",
              "      <td>1.7</td>\n",
              "      <td>24.4</td>\n",
              "      <td>0.9</td>\n",
              "      <td>1.3</td>\n",
              "      <td>67.0</td>\n",
              "      <td>0.5</td>\n",
              "      <td>1.7</td>\n",
              "      <td>2.2</td>\n",
              "      <td>1.0</td>\n",
              "      <td>0.5</td>\n",
              "      <td>0.3</td>\n",
              "      <td>1.0</td>\n",
              "      <td>0.0</td>\n",
              "    </tr>\n",
              "    <tr>\n",
              "      <th>3</th>\n",
              "      <td>Malik Sealy</td>\n",
              "      <td>58</td>\n",
              "      <td>11.6</td>\n",
              "      <td>5.7</td>\n",
              "      <td>2.3</td>\n",
              "      <td>5.5</td>\n",
              "      <td>42.6</td>\n",
              "      <td>0.1</td>\n",
              "      <td>0.5</td>\n",
              "      <td>22.6</td>\n",
              "      <td>0.9</td>\n",
              "      <td>1.3</td>\n",
              "      <td>68.9</td>\n",
              "      <td>1.0</td>\n",
              "      <td>0.9</td>\n",
              "      <td>1.9</td>\n",
              "      <td>0.8</td>\n",
              "      <td>0.6</td>\n",
              "      <td>0.1</td>\n",
              "      <td>1.0</td>\n",
              "      <td>1.0</td>\n",
              "    </tr>\n",
              "    <tr>\n",
              "      <th>4</th>\n",
              "      <td>Matt Geiger</td>\n",
              "      <td>48</td>\n",
              "      <td>11.5</td>\n",
              "      <td>4.5</td>\n",
              "      <td>1.6</td>\n",
              "      <td>3.0</td>\n",
              "      <td>52.4</td>\n",
              "      <td>0.0</td>\n",
              "      <td>0.1</td>\n",
              "      <td>0.0</td>\n",
              "      <td>1.3</td>\n",
              "      <td>1.9</td>\n",
              "      <td>67.4</td>\n",
              "      <td>1.0</td>\n",
              "      <td>1.5</td>\n",
              "      <td>2.5</td>\n",
              "      <td>0.3</td>\n",
              "      <td>0.3</td>\n",
              "      <td>0.4</td>\n",
              "      <td>0.8</td>\n",
              "      <td>1.0</td>\n",
              "    </tr>\n",
              "  </tbody>\n",
              "</table>\n",
              "</div>\n",
              "      <button class=\"colab-df-convert\" onclick=\"convertToInteractive('df-48eaf67b-c08d-498f-936a-cd97cafaf869')\"\n",
              "              title=\"Convert this dataframe to an interactive table.\"\n",
              "              style=\"display:none;\">\n",
              "        \n",
              "  <svg xmlns=\"http://www.w3.org/2000/svg\" height=\"24px\"viewBox=\"0 0 24 24\"\n",
              "       width=\"24px\">\n",
              "    <path d=\"M0 0h24v24H0V0z\" fill=\"none\"/>\n",
              "    <path d=\"M18.56 5.44l.94 2.06.94-2.06 2.06-.94-2.06-.94-.94-2.06-.94 2.06-2.06.94zm-11 1L8.5 8.5l.94-2.06 2.06-.94-2.06-.94L8.5 2.5l-.94 2.06-2.06.94zm10 10l.94 2.06.94-2.06 2.06-.94-2.06-.94-.94-2.06-.94 2.06-2.06.94z\"/><path d=\"M17.41 7.96l-1.37-1.37c-.4-.4-.92-.59-1.43-.59-.52 0-1.04.2-1.43.59L10.3 9.45l-7.72 7.72c-.78.78-.78 2.05 0 2.83L4 21.41c.39.39.9.59 1.41.59.51 0 1.02-.2 1.41-.59l7.78-7.78 2.81-2.81c.8-.78.8-2.07 0-2.86zM5.41 20L4 18.59l7.72-7.72 1.47 1.35L5.41 20z\"/>\n",
              "  </svg>\n",
              "      </button>\n",
              "      \n",
              "  <style>\n",
              "    .colab-df-container {\n",
              "      display:flex;\n",
              "      flex-wrap:wrap;\n",
              "      gap: 12px;\n",
              "    }\n",
              "\n",
              "    .colab-df-convert {\n",
              "      background-color: #E8F0FE;\n",
              "      border: none;\n",
              "      border-radius: 50%;\n",
              "      cursor: pointer;\n",
              "      display: none;\n",
              "      fill: #1967D2;\n",
              "      height: 32px;\n",
              "      padding: 0 0 0 0;\n",
              "      width: 32px;\n",
              "    }\n",
              "\n",
              "    .colab-df-convert:hover {\n",
              "      background-color: #E2EBFA;\n",
              "      box-shadow: 0px 1px 2px rgba(60, 64, 67, 0.3), 0px 1px 3px 1px rgba(60, 64, 67, 0.15);\n",
              "      fill: #174EA6;\n",
              "    }\n",
              "\n",
              "    [theme=dark] .colab-df-convert {\n",
              "      background-color: #3B4455;\n",
              "      fill: #D2E3FC;\n",
              "    }\n",
              "\n",
              "    [theme=dark] .colab-df-convert:hover {\n",
              "      background-color: #434B5C;\n",
              "      box-shadow: 0px 1px 3px 1px rgba(0, 0, 0, 0.15);\n",
              "      filter: drop-shadow(0px 1px 2px rgba(0, 0, 0, 0.3));\n",
              "      fill: #FFFFFF;\n",
              "    }\n",
              "  </style>\n",
              "\n",
              "      <script>\n",
              "        const buttonEl =\n",
              "          document.querySelector('#df-48eaf67b-c08d-498f-936a-cd97cafaf869 button.colab-df-convert');\n",
              "        buttonEl.style.display =\n",
              "          google.colab.kernel.accessAllowed ? 'block' : 'none';\n",
              "\n",
              "        async function convertToInteractive(key) {\n",
              "          const element = document.querySelector('#df-48eaf67b-c08d-498f-936a-cd97cafaf869');\n",
              "          const dataTable =\n",
              "            await google.colab.kernel.invokeFunction('convertToInteractive',\n",
              "                                                     [key], {});\n",
              "          if (!dataTable) return;\n",
              "\n",
              "          const docLinkHtml = 'Like what you see? Visit the ' +\n",
              "            '<a target=\"_blank\" href=https://colab.research.google.com/notebooks/data_table.ipynb>data table notebook</a>'\n",
              "            + ' to learn more about interactive tables.';\n",
              "          element.innerHTML = '';\n",
              "          dataTable['output_type'] = 'display_data';\n",
              "          await google.colab.output.renderOutput(dataTable, element);\n",
              "          const docLink = document.createElement('div');\n",
              "          docLink.innerHTML = docLinkHtml;\n",
              "          element.appendChild(docLink);\n",
              "        }\n",
              "      </script>\n",
              "    </div>\n",
              "  </div>\n",
              "  "
            ],
            "text/plain": [
              "              Name  GP   MIN  PTS  FGM  ...  AST  STL  BLK  TOV  TARGET_5Yrs\n",
              "0   Brandon Ingram  36  27.4  7.4  2.6  ...  1.9  0.4  0.4  1.3          0.0\n",
              "1  Andrew Harrison  35  26.9  7.2  2.0  ...  3.7  1.1  0.5  1.6          0.0\n",
              "2   JaKarr Sampson  74  15.3  5.2  2.0  ...  1.0  0.5  0.3  1.0          0.0\n",
              "3      Malik Sealy  58  11.6  5.7  2.3  ...  0.8  0.6  0.1  1.0          1.0\n",
              "4      Matt Geiger  48  11.5  4.5  1.6  ...  0.3  0.3  0.4  0.8          1.0\n",
              "\n",
              "[5 rows x 21 columns]"
            ]
          },
          "metadata": {},
          "execution_count": 71
        }
      ]
    },
    {
      "cell_type": "code",
      "source": [
        "from google.colab import files\n",
        "from IPython.display import Image"
      ],
      "metadata": {
        "id": "aOWTMx_CHZ1M"
      },
      "execution_count": 72,
      "outputs": []
    },
    {
      "cell_type": "code",
      "source": [
        "uploaded = files.upload()"
      ],
      "metadata": {
        "id": "RYKtF-bIIGE-",
        "colab": {
          "resources": {
            "http://localhost:8080/nbextensions/google.colab/files.js": {
              "data": "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",
              "ok": true,
              "headers": [
                [
                  "content-type",
                  "application/javascript"
                ]
              ],
              "status": 200,
              "status_text": ""
            }
          },
          "base_uri": "https://localhost:8080/",
          "height": 72
        },
        "outputId": "cf0b4f4d-3189-45a8-ec82-cddc8c445de1"
      },
      "execution_count": null,
      "outputs": [
        {
          "output_type": "display_data",
          "data": {
            "text/html": [
              "\n",
              "     <input type=\"file\" id=\"files-8f04bd1a-63d2-4e3d-ab35-4ed729ef4bf3\" name=\"files[]\" multiple disabled\n",
              "        style=\"border:none\" />\n",
              "     <output id=\"result-8f04bd1a-63d2-4e3d-ab35-4ed729ef4bf3\">\n",
              "      Upload widget is only available when the cell has been executed in the\n",
              "      current browser session. Please rerun this cell to enable.\n",
              "      </output>\n",
              "      <script src=\"/nbextensions/google.colab/files.js\"></script> "
            ],
            "text/plain": [
              "<IPython.core.display.HTML object>"
            ]
          },
          "metadata": {}
        },
        {
          "output_type": "stream",
          "name": "stdout",
          "text": [
            "Saving NBA DESCRIPTION.png to NBA DESCRIPTION.png\n"
          ]
        }
      ]
    },
    {
      "cell_type": "code",
      "source": [
        ""
      ],
      "metadata": {
        "id": "tKZLViyzIfJs"
      },
      "execution_count": null,
      "outputs": []
    },
    {
      "cell_type": "code",
      "source": [
        "Image(\"NBA DESCRIPTION.png\", width=400)"
      ],
      "metadata": {
        "id": "drsS0mLkIQFd",
        "colab": {
          "base_uri": "https://localhost:8080/",
          "height": 645
        },
        "outputId": "294ec2f8-b518-4f13-a414-dcba5e4414a4"
      },
      "execution_count": null,
      "outputs": [
        {
          "output_type": "execute_result",
          "data": {
            "image/png": "[encoded data removed]",
            "text/plain": [
              "<IPython.core.display.Image object>"
            ]
          },
          "metadata": {
            "image/png": {
              "width": 400
            }
          },
          "execution_count": 5
        }
      ]
    },
    {
      "cell_type": "markdown",
      "source": [
        "1. GP  - Games played\n",
        "2. MIN  - minutes played\n",
        "3. PTS - points per game\n",
        "4. FGM  - field goals made \n",
        "5. FGA   - field goal attempts\n",
        "6. FG%   - field goal percentage\n",
        "7. 3P MADE - 3point made\n",
        "8. 3PA  - 3points attempt\n",
        "9. FTM   - free throw made\n",
        "10. FTA  - free throw attempts\n",
        "11. FT%   - free throw percentage\n",
        "12. OREB - offensive rebounds\n",
        "DREB - defensive rebounds\n",
        "13. REB  - rebounds\n",
        "14. AST  - assits\n",
        "15. STL  - steals\n",
        "16. BLK -- blocks\n",
        "17. TOV -- turnovers"
      ],
      "metadata": {
        "id": "_f7xDeumU-f3"
      }
    },
    {
      "cell_type": "code",
      "source": [
        "data.describe()"
      ],
      "metadata": {
        "colab": {
          "base_uri": "https://localhost:8080/",
          "height": 363
        },
        "id": "CeL29mUzaabO",
        "outputId": "bdaec8cf-5778-453f-aea0-8154ed1461d4"
      },
      "execution_count": 73,
      "outputs": [
        {
          "output_type": "execute_result",
          "data": {
            "text/html": [
              "\n",
              "  <div id=\"df-189d1ed7-a8c9-4cbb-8067-613dd81bc35f\">\n",
              "    <div class=\"colab-df-container\">\n",
              "      <div>\n",
              "<style scoped>\n",
              "    .dataframe tbody tr th:only-of-type {\n",
              "        vertical-align: middle;\n",
              "    }\n",
              "\n",
              "    .dataframe tbody tr th {\n",
              "        vertical-align: top;\n",
              "    }\n",
              "\n",
              "    .dataframe thead th {\n",
              "        text-align: right;\n",
              "    }\n",
              "</style>\n",
              "<table border=\"1\" class=\"dataframe\">\n",
              "  <thead>\n",
              "    <tr style=\"text-align: right;\">\n",
              "      <th></th>\n",
              "      <th>GP</th>\n",
              "      <th>MIN</th>\n",
              "      <th>PTS</th>\n",
              "      <th>FGM</th>\n",
              "      <th>FGA</th>\n",
              "      <th>FG%</th>\n",
              "      <th>3P Made</th>\n",
              "      <th>3PA</th>\n",
              "      <th>3P%</th>\n",
              "      <th>FTM</th>\n",
              "      <th>FTA</th>\n",
              "      <th>FT%</th>\n",
              "      <th>OREB</th>\n",
              "      <th>DREB</th>\n",
              "      <th>REB</th>\n",
              "      <th>AST</th>\n",
              "      <th>STL</th>\n",
              "      <th>BLK</th>\n",
              "      <th>TOV</th>\n",
              "      <th>TARGET_5Yrs</th>\n",
              "    </tr>\n",
              "  </thead>\n",
              "  <tbody>\n",
              "    <tr>\n",
              "      <th>count</th>\n",
              "      <td>1340.000000</td>\n",
              "      <td>1340.000000</td>\n",
              "      <td>1340.000000</td>\n",
              "      <td>1340.000000</td>\n",
              "      <td>1340.000000</td>\n",
              "      <td>1340.000000</td>\n",
              "      <td>1340.000000</td>\n",
              "      <td>1340.000000</td>\n",
              "      <td>1329.000000</td>\n",
              "      <td>1340.000000</td>\n",
              "      <td>1340.000000</td>\n",
              "      <td>1340.000000</td>\n",
              "      <td>1340.000000</td>\n",
              "      <td>1340.000000</td>\n",
              "      <td>1340.000000</td>\n",
              "      <td>1340.000000</td>\n",
              "      <td>1340.000000</td>\n",
              "      <td>1340.000000</td>\n",
              "      <td>1340.000000</td>\n",
              "      <td>1340.000000</td>\n",
              "    </tr>\n",
              "    <tr>\n",
              "      <th>mean</th>\n",
              "      <td>60.414179</td>\n",
              "      <td>17.624627</td>\n",
              "      <td>6.801493</td>\n",
              "      <td>2.629104</td>\n",
              "      <td>5.885299</td>\n",
              "      <td>44.169403</td>\n",
              "      <td>0.247612</td>\n",
              "      <td>0.779179</td>\n",
              "      <td>19.308126</td>\n",
              "      <td>1.297687</td>\n",
              "      <td>1.821940</td>\n",
              "      <td>70.300299</td>\n",
              "      <td>1.009403</td>\n",
              "      <td>2.025746</td>\n",
              "      <td>3.034478</td>\n",
              "      <td>1.550522</td>\n",
              "      <td>0.618507</td>\n",
              "      <td>0.368582</td>\n",
              "      <td>1.193582</td>\n",
              "      <td>0.620149</td>\n",
              "    </tr>\n",
              "    <tr>\n",
              "      <th>std</th>\n",
              "      <td>17.433992</td>\n",
              "      <td>8.307964</td>\n",
              "      <td>4.357545</td>\n",
              "      <td>1.683555</td>\n",
              "      <td>3.593488</td>\n",
              "      <td>6.137679</td>\n",
              "      <td>0.383688</td>\n",
              "      <td>1.061847</td>\n",
              "      <td>16.022916</td>\n",
              "      <td>0.987246</td>\n",
              "      <td>1.322984</td>\n",
              "      <td>10.578479</td>\n",
              "      <td>0.777119</td>\n",
              "      <td>1.360008</td>\n",
              "      <td>2.057774</td>\n",
              "      <td>1.471169</td>\n",
              "      <td>0.409759</td>\n",
              "      <td>0.429049</td>\n",
              "      <td>0.722541</td>\n",
              "      <td>0.485531</td>\n",
              "    </tr>\n",
              "    <tr>\n",
              "      <th>min</th>\n",
              "      <td>11.000000</td>\n",
              "      <td>3.100000</td>\n",
              "      <td>0.700000</td>\n",
              "      <td>0.300000</td>\n",
              "      <td>0.800000</td>\n",
              "      <td>23.800000</td>\n",
              "      <td>0.000000</td>\n",
              "      <td>0.000000</td>\n",
              "      <td>0.000000</td>\n",
              "      <td>0.000000</td>\n",
              "      <td>0.000000</td>\n",
              "      <td>0.000000</td>\n",
              "      <td>0.000000</td>\n",
              "      <td>0.200000</td>\n",
              "      <td>0.300000</td>\n",
              "      <td>0.000000</td>\n",
              "      <td>0.000000</td>\n",
              "      <td>0.000000</td>\n",
              "      <td>0.100000</td>\n",
              "      <td>0.000000</td>\n",
              "    </tr>\n",
              "    <tr>\n",
              "      <th>25%</th>\n",
              "      <td>47.000000</td>\n",
              "      <td>10.875000</td>\n",
              "      <td>3.700000</td>\n",
              "      <td>1.400000</td>\n",
              "      <td>3.300000</td>\n",
              "      <td>40.200000</td>\n",
              "      <td>0.000000</td>\n",
              "      <td>0.000000</td>\n",
              "      <td>0.000000</td>\n",
              "      <td>0.600000</td>\n",
              "      <td>0.900000</td>\n",
              "      <td>64.700000</td>\n",
              "      <td>0.400000</td>\n",
              "      <td>1.000000</td>\n",
              "      <td>1.500000</td>\n",
              "      <td>0.600000</td>\n",
              "      <td>0.300000</td>\n",
              "      <td>0.100000</td>\n",
              "      <td>0.700000</td>\n",
              "      <td>0.000000</td>\n",
              "    </tr>\n",
              "    <tr>\n",
              "      <th>50%</th>\n",
              "      <td>63.000000</td>\n",
              "      <td>16.100000</td>\n",
              "      <td>5.550000</td>\n",
              "      <td>2.100000</td>\n",
              "      <td>4.800000</td>\n",
              "      <td>44.100000</td>\n",
              "      <td>0.100000</td>\n",
              "      <td>0.300000</td>\n",
              "      <td>22.400000</td>\n",
              "      <td>1.000000</td>\n",
              "      <td>1.500000</td>\n",
              "      <td>71.250000</td>\n",
              "      <td>0.800000</td>\n",
              "      <td>1.700000</td>\n",
              "      <td>2.500000</td>\n",
              "      <td>1.100000</td>\n",
              "      <td>0.500000</td>\n",
              "      <td>0.200000</td>\n",
              "      <td>1.000000</td>\n",
              "      <td>1.000000</td>\n",
              "    </tr>\n",
              "    <tr>\n",
              "      <th>75%</th>\n",
              "      <td>77.000000</td>\n",
              "      <td>22.900000</td>\n",
              "      <td>8.800000</td>\n",
              "      <td>3.400000</td>\n",
              "      <td>7.500000</td>\n",
              "      <td>47.900000</td>\n",
              "      <td>0.400000</td>\n",
              "      <td>1.200000</td>\n",
              "      <td>32.500000</td>\n",
              "      <td>1.600000</td>\n",
              "      <td>2.300000</td>\n",
              "      <td>77.600000</td>\n",
              "      <td>1.400000</td>\n",
              "      <td>2.600000</td>\n",
              "      <td>4.000000</td>\n",
              "      <td>2.000000</td>\n",
              "      <td>0.800000</td>\n",
              "      <td>0.500000</td>\n",
              "      <td>1.500000</td>\n",
              "      <td>1.000000</td>\n",
              "    </tr>\n",
              "    <tr>\n",
              "      <th>max</th>\n",
              "      <td>82.000000</td>\n",
              "      <td>40.900000</td>\n",
              "      <td>28.200000</td>\n",
              "      <td>10.200000</td>\n",
              "      <td>19.800000</td>\n",
              "      <td>73.700000</td>\n",
              "      <td>2.300000</td>\n",
              "      <td>6.500000</td>\n",
              "      <td>100.000000</td>\n",
              "      <td>7.700000</td>\n",
              "      <td>10.200000</td>\n",
              "      <td>100.000000</td>\n",
              "      <td>5.300000</td>\n",
              "      <td>9.600000</td>\n",
              "      <td>13.900000</td>\n",
              "      <td>10.600000</td>\n",
              "      <td>2.500000</td>\n",
              "      <td>3.900000</td>\n",
              "      <td>4.400000</td>\n",
              "      <td>1.000000</td>\n",
              "    </tr>\n",
              "  </tbody>\n",
              "</table>\n",
              "</div>\n",
              "      <button class=\"colab-df-convert\" onclick=\"convertToInteractive('df-189d1ed7-a8c9-4cbb-8067-613dd81bc35f')\"\n",
              "              title=\"Convert this dataframe to an interactive table.\"\n",
              "              style=\"display:none;\">\n",
              "        \n",
              "  <svg xmlns=\"http://www.w3.org/2000/svg\" height=\"24px\"viewBox=\"0 0 24 24\"\n",
              "       width=\"24px\">\n",
              "    <path d=\"M0 0h24v24H0V0z\" fill=\"none\"/>\n",
              "    <path d=\"M18.56 5.44l.94 2.06.94-2.06 2.06-.94-2.06-.94-.94-2.06-.94 2.06-2.06.94zm-11 1L8.5 8.5l.94-2.06 2.06-.94-2.06-.94L8.5 2.5l-.94 2.06-2.06.94zm10 10l.94 2.06.94-2.06 2.06-.94-2.06-.94-.94-2.06-.94 2.06-2.06.94z\"/><path d=\"M17.41 7.96l-1.37-1.37c-.4-.4-.92-.59-1.43-.59-.52 0-1.04.2-1.43.59L10.3 9.45l-7.72 7.72c-.78.78-.78 2.05 0 2.83L4 21.41c.39.39.9.59 1.41.59.51 0 1.02-.2 1.41-.59l7.78-7.78 2.81-2.81c.8-.78.8-2.07 0-2.86zM5.41 20L4 18.59l7.72-7.72 1.47 1.35L5.41 20z\"/>\n",
              "  </svg>\n",
              "      </button>\n",
              "      \n",
              "  <style>\n",
              "    .colab-df-container {\n",
              "      display:flex;\n",
              "      flex-wrap:wrap;\n",
              "      gap: 12px;\n",
              "    }\n",
              "\n",
              "    .colab-df-convert {\n",
              "      background-color: #E8F0FE;\n",
              "      border: none;\n",
              "      border-radius: 50%;\n",
              "      cursor: pointer;\n",
              "      display: none;\n",
              "      fill: #1967D2;\n",
              "      height: 32px;\n",
              "      padding: 0 0 0 0;\n",
              "      width: 32px;\n",
              "    }\n",
              "\n",
              "    .colab-df-convert:hover {\n",
              "      background-color: #E2EBFA;\n",
              "      box-shadow: 0px 1px 2px rgba(60, 64, 67, 0.3), 0px 1px 3px 1px rgba(60, 64, 67, 0.15);\n",
              "      fill: #174EA6;\n",
              "    }\n",
              "\n",
              "    [theme=dark] .colab-df-convert {\n",
              "      background-color: #3B4455;\n",
              "      fill: #D2E3FC;\n",
              "    }\n",
              "\n",
              "    [theme=dark] .colab-df-convert:hover {\n",
              "      background-color: #434B5C;\n",
              "      box-shadow: 0px 1px 3px 1px rgba(0, 0, 0, 0.15);\n",
              "      filter: drop-shadow(0px 1px 2px rgba(0, 0, 0, 0.3));\n",
              "      fill: #FFFFFF;\n",
              "    }\n",
              "  </style>\n",
              "\n",
              "      <script>\n",
              "        const buttonEl =\n",
              "          document.querySelector('#df-189d1ed7-a8c9-4cbb-8067-613dd81bc35f button.colab-df-convert');\n",
              "        buttonEl.style.display =\n",
              "          google.colab.kernel.accessAllowed ? 'block' : 'none';\n",
              "\n",
              "        async function convertToInteractive(key) {\n",
              "          const element = document.querySelector('#df-189d1ed7-a8c9-4cbb-8067-613dd81bc35f');\n",
              "          const dataTable =\n",
              "            await google.colab.kernel.invokeFunction('convertToInteractive',\n",
              "                                                     [key], {});\n",
              "          if (!dataTable) return;\n",
              "\n",
              "          const docLinkHtml = 'Like what you see? Visit the ' +\n",
              "            '<a target=\"_blank\" href=https://colab.research.google.com/notebooks/data_table.ipynb>data table notebook</a>'\n",
              "            + ' to learn more about interactive tables.';\n",
              "          element.innerHTML = '';\n",
              "          dataTable['output_type'] = 'display_data';\n",
              "          await google.colab.output.renderOutput(dataTable, element);\n",
              "          const docLink = document.createElement('div');\n",
              "          docLink.innerHTML = docLinkHtml;\n",
              "          element.appendChild(docLink);\n",
              "        }\n",
              "      </script>\n",
              "    </div>\n",
              "  </div>\n",
              "  "
            ],
            "text/plain": [
              "                GP          MIN  ...          TOV  TARGET_5Yrs\n",
              "count  1340.000000  1340.000000  ...  1340.000000  1340.000000\n",
              "mean     60.414179    17.624627  ...     1.193582     0.620149\n",
              "std      17.433992     8.307964  ...     0.722541     0.485531\n",
              "min      11.000000     3.100000  ...     0.100000     0.000000\n",
              "25%      47.000000    10.875000  ...     0.700000     0.000000\n",
              "50%      63.000000    16.100000  ...     1.000000     1.000000\n",
              "75%      77.000000    22.900000  ...     1.500000     1.000000\n",
              "max      82.000000    40.900000  ...     4.400000     1.000000\n",
              "\n",
              "[8 rows x 20 columns]"
            ]
          },
          "metadata": {},
          "execution_count": 73
        }
      ]
    },
    {
      "cell_type": "code",
      "source": [
        "data.info()"
      ],
      "metadata": {
        "colab": {
          "base_uri": "https://localhost:8080/"
        },
        "id": "UTrVku12b3ys",
        "outputId": "2ce4fbe1-5498-4b79-a8ec-966962dea3a9"
      },
      "execution_count": 74,
      "outputs": [
        {
          "output_type": "stream",
          "name": "stdout",
          "text": [
            "<class 'pandas.core.frame.DataFrame'>\n",
            "RangeIndex: 1340 entries, 0 to 1339\n",
            "Data columns (total 21 columns):\n",
            " #   Column       Non-Null Count  Dtype  \n",
            "---  ------       --------------  -----  \n",
            " 0   Name         1340 non-null   object \n",
            " 1   GP           1340 non-null   int64  \n",
            " 2   MIN          1340 non-null   float64\n",
            " 3   PTS          1340 non-null   float64\n",
            " 4   FGM          1340 non-null   float64\n",
            " 5   FGA          1340 non-null   float64\n",
            " 6   FG%          1340 non-null   float64\n",
            " 7   3P Made      1340 non-null   float64\n",
            " 8   3PA          1340 non-null   float64\n",
            " 9   3P%          1329 non-null   float64\n",
            " 10  FTM          1340 non-null   float64\n",
            " 11  FTA          1340 non-null   float64\n",
            " 12  FT%          1340 non-null   float64\n",
            " 13  OREB         1340 non-null   float64\n",
            " 14  DREB         1340 non-null   float64\n",
            " 15  REB          1340 non-null   float64\n",
            " 16  AST          1340 non-null   float64\n",
            " 17  STL          1340 non-null   float64\n",
            " 18  BLK          1340 non-null   float64\n",
            " 19  TOV          1340 non-null   float64\n",
            " 20  TARGET_5Yrs  1340 non-null   float64\n",
            "dtypes: float64(19), int64(1), object(1)\n",
            "memory usage: 220.0+ KB\n"
          ]
        }
      ]
    },
    {
      "cell_type": "code",
      "source": [
        "data.isnull().sum()"
      ],
      "metadata": {
        "colab": {
          "base_uri": "https://localhost:8080/"
        },
        "id": "sOEE3sYLTB6q",
        "outputId": "bf58589b-bc1b-4518-cc53-bcade90470a9"
      },
      "execution_count": 75,
      "outputs": [
        {
          "output_type": "execute_result",
          "data": {
            "text/plain": [
              "Name            0\n",
              "GP              0\n",
              "MIN             0\n",
              "PTS             0\n",
              "FGM             0\n",
              "FGA             0\n",
              "FG%             0\n",
              "3P Made         0\n",
              "3PA             0\n",
              "3P%            11\n",
              "FTM             0\n",
              "FTA             0\n",
              "FT%             0\n",
              "OREB            0\n",
              "DREB            0\n",
              "REB             0\n",
              "AST             0\n",
              "STL             0\n",
              "BLK             0\n",
              "TOV             0\n",
              "TARGET_5Yrs     0\n",
              "dtype: int64"
            ]
          },
          "metadata": {},
          "execution_count": 75
        }
      ]
    },
    {
      "cell_type": "code",
      "source": [
        "data.drop(\"Name\",axis=1,inplace=True)"
      ],
      "metadata": {
        "id": "S98wZ4rFTmpn"
      },
      "execution_count": 76,
      "outputs": []
    },
    {
      "cell_type": "markdown",
      "source": [
        "**DEALING WITH MISSING ENTRIES(IMPURATION)**"
      ],
      "metadata": {
        "id": "rBewxv8XUfi4"
      }
    },
    {
      "cell_type": "markdown",
      "source": [
        "we have missing values in column 3PA "
      ],
      "metadata": {
        "id": "wUpLnjQoTJXk"
      }
    },
    {
      "cell_type": "code",
      "source": [
        "updated_df = data\n",
        "updated_df['3P%']=updated_df['3P%'].fillna(updated_df['3P%'].mean())\n",
        "updated_df.info()"
      ],
      "metadata": {
        "colab": {
          "base_uri": "https://localhost:8080/"
        },
        "id": "8xbfI1uxTrjC",
        "outputId": "974a4987-dc8a-4be2-9726-6c8acc2e3c64"
      },
      "execution_count": 77,
      "outputs": [
        {
          "output_type": "stream",
          "name": "stdout",
          "text": [
            "<class 'pandas.core.frame.DataFrame'>\n",
            "RangeIndex: 1340 entries, 0 to 1339\n",
            "Data columns (total 20 columns):\n",
            " #   Column       Non-Null Count  Dtype  \n",
            "---  ------       --------------  -----  \n",
            " 0   GP           1340 non-null   int64  \n",
            " 1   MIN          1340 non-null   float64\n",
            " 2   PTS          1340 non-null   float64\n",
            " 3   FGM          1340 non-null   float64\n",
            " 4   FGA          1340 non-null   float64\n",
            " 5   FG%          1340 non-null   float64\n",
            " 6   3P Made      1340 non-null   float64\n",
            " 7   3PA          1340 non-null   float64\n",
            " 8   3P%          1340 non-null   float64\n",
            " 9   FTM          1340 non-null   float64\n",
            " 10  FTA          1340 non-null   float64\n",
            " 11  FT%          1340 non-null   float64\n",
            " 12  OREB         1340 non-null   float64\n",
            " 13  DREB         1340 non-null   float64\n",
            " 14  REB          1340 non-null   float64\n",
            " 15  AST          1340 non-null   float64\n",
            " 16  STL          1340 non-null   float64\n",
            " 17  BLK          1340 non-null   float64\n",
            " 18  TOV          1340 non-null   float64\n",
            " 19  TARGET_5Yrs  1340 non-null   float64\n",
            "dtypes: float64(19), int64(1)\n",
            "memory usage: 209.5 KB\n"
          ]
        }
      ]
    },
    {
      "cell_type": "code",
      "source": [
        "updated_df.isnull().sum()"
      ],
      "metadata": {
        "colab": {
          "base_uri": "https://localhost:8080/"
        },
        "id": "glp01xy-UyGI",
        "outputId": "27788da1-ec13-45b4-f91d-b63c85bf1e1c"
      },
      "execution_count": 78,
      "outputs": [
        {
          "output_type": "execute_result",
          "data": {
            "text/plain": [
              "GP             0\n",
              "MIN            0\n",
              "PTS            0\n",
              "FGM            0\n",
              "FGA            0\n",
              "FG%            0\n",
              "3P Made        0\n",
              "3PA            0\n",
              "3P%            0\n",
              "FTM            0\n",
              "FTA            0\n",
              "FT%            0\n",
              "OREB           0\n",
              "DREB           0\n",
              "REB            0\n",
              "AST            0\n",
              "STL            0\n",
              "BLK            0\n",
              "TOV            0\n",
              "TARGET_5Yrs    0\n",
              "dtype: int64"
            ]
          },
          "metadata": {},
          "execution_count": 78
        }
      ]
    },
    {
      "cell_type": "markdown",
      "source": [
        "# Data Exploration"
      ],
      "metadata": {
        "id": "timJJqimJ8x0"
      }
    },
    {
      "cell_type": "code",
      "source": [
        "count = updated_df['TARGET_5Yrs']\n",
        "data_distrubution = count.value_counts()"
      ],
      "metadata": {
        "id": "HpaHDP2gKH2q"
      },
      "execution_count": 79,
      "outputs": []
    },
    {
      "cell_type": "code",
      "source": [
        "# plot distrubution of the variable TARGET_5yrs\n",
        "print(data_distrubution)\n",
        "sns.countplot(count)\n"
      ],
      "metadata": {
        "id": "eZe084dyKcQN",
        "colab": {
          "base_uri": "https://localhost:8080/",
          "height": 403
        },
        "outputId": "a04832bc-682b-46a4-9115-c3253fc5c48d"
      },
      "execution_count": 80,
      "outputs": [
        {
          "output_type": "stream",
          "name": "stdout",
          "text": [
            "1.0    831\n",
            "0.0    509\n",
            "Name: TARGET_5Yrs, dtype: int64\n"
          ]
        },
        {
          "output_type": "stream",
          "name": "stderr",
          "text": [
            "/usr/local/lib/python3.7/dist-packages/seaborn/_decorators.py:43: FutureWarning: Pass the following variable as a keyword arg: x. From version 0.12, the only valid positional argument will be `data`, and passing other arguments without an explicit keyword will result in an error or misinterpretation.\n",
            "  FutureWarning\n"
          ]
        },
        {
          "output_type": "execute_result",
          "data": {
            "text/plain": [
              "<matplotlib.axes._subplots.AxesSubplot at 0x7fa65360cbd0>"
            ]
          },
          "metadata": {},
          "execution_count": 80
        },
        {
          "output_type": "display_data",
          "data": {
            "image/png": "[encoded data removed]",
            "text/plain": [
              "<Figure size 432x288 with 1 Axes>"
            ]
          },
          "metadata": {
            "needs_background": "light"
          }
        }
      ]
    },
    {
      "cell_type": "code",
      "source": [
        ""
      ],
      "metadata": {
        "id": "OOkydXbWNfPb"
      },
      "execution_count": null,
      "outputs": []
    },
    {
      "cell_type": "markdown",
      "source": [
        "The first binary classification dataset in the list requires you to predict if a rookie basketball player will last more than 5 years in the league:"
      ],
      "metadata": {
        "id": "RsXi49d1NpGg"
      }
    },
    {
      "cell_type": "code",
      "source": [
        "updated_df.groupby('TARGET_5Yrs').mean()"
      ],
      "metadata": {
        "id": "TOazHsqTNr7R",
        "colab": {
          "base_uri": "https://localhost:8080/",
          "height": 143
        },
        "outputId": "4b65ea9a-54c3-42f1-d749-d9fcdd355e77"
      },
      "execution_count": 81,
      "outputs": [
        {
          "output_type": "execute_result",
          "data": {
            "text/html": [
              "\n",
              "  <div id=\"df-71d484b4-bc58-4d87-8e7a-5b3a2ce8dc5d\">\n",
              "    <div class=\"colab-df-container\">\n",
              "      <div>\n",
              "<style scoped>\n",
              "    .dataframe tbody tr th:only-of-type {\n",
              "        vertical-align: middle;\n",
              "    }\n",
              "\n",
              "    .dataframe tbody tr th {\n",
              "        vertical-align: top;\n",
              "    }\n",
              "\n",
              "    .dataframe thead th {\n",
              "        text-align: right;\n",
              "    }\n",
              "</style>\n",
              "<table border=\"1\" class=\"dataframe\">\n",
              "  <thead>\n",
              "    <tr style=\"text-align: right;\">\n",
              "      <th></th>\n",
              "      <th>GP</th>\n",
              "      <th>MIN</th>\n",
              "      <th>PTS</th>\n",
              "      <th>FGM</th>\n",
              "      <th>FGA</th>\n",
              "      <th>FG%</th>\n",
              "      <th>3P Made</th>\n",
              "      <th>3PA</th>\n",
              "      <th>3P%</th>\n",
              "      <th>FTM</th>\n",
              "      <th>FTA</th>\n",
              "      <th>FT%</th>\n",
              "      <th>OREB</th>\n",
              "      <th>DREB</th>\n",
              "      <th>REB</th>\n",
              "      <th>AST</th>\n",
              "      <th>STL</th>\n",
              "      <th>BLK</th>\n",
              "      <th>TOV</th>\n",
              "    </tr>\n",
              "    <tr>\n",
              "      <th>TARGET_5Yrs</th>\n",
              "      <th></th>\n",
              "      <th></th>\n",
              "      <th></th>\n",
              "      <th></th>\n",
              "      <th></th>\n",
              "      <th></th>\n",
              "      <th></th>\n",
              "      <th></th>\n",
              "      <th></th>\n",
              "      <th></th>\n",
              "      <th></th>\n",
              "      <th></th>\n",
              "      <th></th>\n",
              "      <th></th>\n",
              "      <th></th>\n",
              "      <th></th>\n",
              "      <th></th>\n",
              "      <th></th>\n",
              "      <th></th>\n",
              "    </tr>\n",
              "  </thead>\n",
              "  <tbody>\n",
              "    <tr>\n",
              "      <th>0.0</th>\n",
              "      <td>51.577603</td>\n",
              "      <td>14.252259</td>\n",
              "      <td>5.042829</td>\n",
              "      <td>1.946169</td>\n",
              "      <td>4.542043</td>\n",
              "      <td>42.388802</td>\n",
              "      <td>0.229666</td>\n",
              "      <td>0.754617</td>\n",
              "      <td>19.377306</td>\n",
              "      <td>0.923379</td>\n",
              "      <td>1.321611</td>\n",
              "      <td>68.858546</td>\n",
              "      <td>0.718271</td>\n",
              "      <td>1.531238</td>\n",
              "      <td>2.247544</td>\n",
              "      <td>1.221022</td>\n",
              "      <td>0.498232</td>\n",
              "      <td>0.253438</td>\n",
              "      <td>0.942240</td>\n",
              "    </tr>\n",
              "    <tr>\n",
              "      <th>1.0</th>\n",
              "      <td>65.826715</td>\n",
              "      <td>19.690253</td>\n",
              "      <td>7.878700</td>\n",
              "      <td>3.047413</td>\n",
              "      <td>6.708063</td>\n",
              "      <td>45.260048</td>\n",
              "      <td>0.258604</td>\n",
              "      <td>0.794224</td>\n",
              "      <td>19.265753</td>\n",
              "      <td>1.526955</td>\n",
              "      <td>2.128400</td>\n",
              "      <td>71.183394</td>\n",
              "      <td>1.187726</td>\n",
              "      <td>2.328640</td>\n",
              "      <td>3.516486</td>\n",
              "      <td>1.752347</td>\n",
              "      <td>0.692178</td>\n",
              "      <td>0.439110</td>\n",
              "      <td>1.347533</td>\n",
              "    </tr>\n",
              "  </tbody>\n",
              "</table>\n",
              "</div>\n",
              "      <button class=\"colab-df-convert\" onclick=\"convertToInteractive('df-71d484b4-bc58-4d87-8e7a-5b3a2ce8dc5d')\"\n",
              "              title=\"Convert this dataframe to an interactive table.\"\n",
              "              style=\"display:none;\">\n",
              "        \n",
              "  <svg xmlns=\"http://www.w3.org/2000/svg\" height=\"24px\"viewBox=\"0 0 24 24\"\n",
              "       width=\"24px\">\n",
              "    <path d=\"M0 0h24v24H0V0z\" fill=\"none\"/>\n",
              "    <path d=\"M18.56 5.44l.94 2.06.94-2.06 2.06-.94-2.06-.94-.94-2.06-.94 2.06-2.06.94zm-11 1L8.5 8.5l.94-2.06 2.06-.94-2.06-.94L8.5 2.5l-.94 2.06-2.06.94zm10 10l.94 2.06.94-2.06 2.06-.94-2.06-.94-.94-2.06-.94 2.06-2.06.94z\"/><path d=\"M17.41 7.96l-1.37-1.37c-.4-.4-.92-.59-1.43-.59-.52 0-1.04.2-1.43.59L10.3 9.45l-7.72 7.72c-.78.78-.78 2.05 0 2.83L4 21.41c.39.39.9.59 1.41.59.51 0 1.02-.2 1.41-.59l7.78-7.78 2.81-2.81c.8-.78.8-2.07 0-2.86zM5.41 20L4 18.59l7.72-7.72 1.47 1.35L5.41 20z\"/>\n",
              "  </svg>\n",
              "      </button>\n",
              "      \n",
              "  <style>\n",
              "    .colab-df-container {\n",
              "      display:flex;\n",
              "      flex-wrap:wrap;\n",
              "      gap: 12px;\n",
              "    }\n",
              "\n",
              "    .colab-df-convert {\n",
              "      background-color: #E8F0FE;\n",
              "      border: none;\n",
              "      border-radius: 50%;\n",
              "      cursor: pointer;\n",
              "      display: none;\n",
              "      fill: #1967D2;\n",
              "      height: 32px;\n",
              "      padding: 0 0 0 0;\n",
              "      width: 32px;\n",
              "    }\n",
              "\n",
              "    .colab-df-convert:hover {\n",
              "      background-color: #E2EBFA;\n",
              "      box-shadow: 0px 1px 2px rgba(60, 64, 67, 0.3), 0px 1px 3px 1px rgba(60, 64, 67, 0.15);\n",
              "      fill: #174EA6;\n",
              "    }\n",
              "\n",
              "    [theme=dark] .colab-df-convert {\n",
              "      background-color: #3B4455;\n",
              "      fill: #D2E3FC;\n",
              "    }\n",
              "\n",
              "    [theme=dark] .colab-df-convert:hover {\n",
              "      background-color: #434B5C;\n",
              "      box-shadow: 0px 1px 3px 1px rgba(0, 0, 0, 0.15);\n",
              "      filter: drop-shadow(0px 1px 2px rgba(0, 0, 0, 0.3));\n",
              "      fill: #FFFFFF;\n",
              "    }\n",
              "  </style>\n",
              "\n",
              "      <script>\n",
              "        const buttonEl =\n",
              "          document.querySelector('#df-71d484b4-bc58-4d87-8e7a-5b3a2ce8dc5d button.colab-df-convert');\n",
              "        buttonEl.style.display =\n",
              "          google.colab.kernel.accessAllowed ? 'block' : 'none';\n",
              "\n",
              "        async function convertToInteractive(key) {\n",
              "          const element = document.querySelector('#df-71d484b4-bc58-4d87-8e7a-5b3a2ce8dc5d');\n",
              "          const dataTable =\n",
              "            await google.colab.kernel.invokeFunction('convertToInteractive',\n",
              "                                                     [key], {});\n",
              "          if (!dataTable) return;\n",
              "\n",
              "          const docLinkHtml = 'Like what you see? Visit the ' +\n",
              "            '<a target=\"_blank\" href=https://colab.research.google.com/notebooks/data_table.ipynb>data table notebook</a>'\n",
              "            + ' to learn more about interactive tables.';\n",
              "          element.innerHTML = '';\n",
              "          dataTable['output_type'] = 'display_data';\n",
              "          await google.colab.output.renderOutput(dataTable, element);\n",
              "          const docLink = document.createElement('div');\n",
              "          docLink.innerHTML = docLinkHtml;\n",
              "          element.appendChild(docLink);\n",
              "        }\n",
              "      </script>\n",
              "    </div>\n",
              "  </div>\n",
              "  "
            ],
            "text/plain": [
              "                    GP        MIN       PTS  ...       STL       BLK       TOV\n",
              "TARGET_5Yrs                                  ...                              \n",
              "0.0          51.577603  14.252259  5.042829  ...  0.498232  0.253438  0.942240\n",
              "1.0          65.826715  19.690253  7.878700  ...  0.692178  0.439110  1.347533\n",
              "\n",
              "[2 rows x 19 columns]"
            ]
          },
          "metadata": {},
          "execution_count": 81
        }
      ]
    },
    {
      "cell_type": "markdown",
      "source": [
        "1. GP  - Games played\n",
        "2. MIN  - minutes played\n",
        "3. PTS - points per game\n",
        "4. FGM  - field goals made \n",
        "5. FGA   - field goal attempts\n",
        "6. FG%   - field goal percentage\n",
        "7. 3P MADE - 3point made\n",
        "8. 3PA  - 3points attempt\n",
        "9. FTM   - free throw made\n",
        "10. FTA  - free throw attempts\n",
        "11. FT%   - free throw percentage\n",
        "12. OREB - offensive rebounds\n",
        "DREB - defensive rebounds\n",
        "13. REB  - rebounds\n",
        "14. AST  - assits\n",
        "15. STL  - steals\n",
        "16. BLK -- blocks\n",
        "17. TOV -- turnovers"
      ],
      "metadata": {
        "id": "x3qr_21YXFCa"
      }
    },
    {
      "cell_type": "markdown",
      "source": [
        "The logistic regression assumes a linear relationship amoung'st independent variables.\n",
        "\n",
        "*   The response variable must follow a binomial distribution.(1 or 0 , yes/ no , true / false)\n",
        "*   lets plot indipendent variables againts each other for further analysis\n",
        "\n"
      ],
      "metadata": {
        "id": "qj5cq38AXnyp"
      }
    },
    {
      "cell_type": "markdown",
      "source": [
        "DATA VISUALIZATION"
      ],
      "metadata": {
        "id": "PXPLcXxYTQnG"
      }
    },
    {
      "cell_type": "code",
      "source": [
        "updated_df.head()\n",
        "\n",
        "            \n",
        "                 "
      ],
      "metadata": {
        "colab": {
          "base_uri": "https://localhost:8080/",
          "height": 206
        },
        "id": "QIgbfQjOTjUW",
        "outputId": "eb4a74bb-422a-40b9-d3ba-e8963d56bf5d"
      },
      "execution_count": 82,
      "outputs": [
        {
          "output_type": "execute_result",
          "data": {
            "text/html": [
              "\n",
              "  <div id=\"df-21892e42-c0da-479c-affe-2a0b757b6b17\">\n",
              "    <div class=\"colab-df-container\">\n",
              "      <div>\n",
              "<style scoped>\n",
              "    .dataframe tbody tr th:only-of-type {\n",
              "        vertical-align: middle;\n",
              "    }\n",
              "\n",
              "    .dataframe tbody tr th {\n",
              "        vertical-align: top;\n",
              "    }\n",
              "\n",
              "    .dataframe thead th {\n",
              "        text-align: right;\n",
              "    }\n",
              "</style>\n",
              "<table border=\"1\" class=\"dataframe\">\n",
              "  <thead>\n",
              "    <tr style=\"text-align: right;\">\n",
              "      <th></th>\n",
              "      <th>GP</th>\n",
              "      <th>MIN</th>\n",
              "      <th>PTS</th>\n",
              "      <th>FGM</th>\n",
              "      <th>FGA</th>\n",
              "      <th>FG%</th>\n",
              "      <th>3P Made</th>\n",
              "      <th>3PA</th>\n",
              "      <th>3P%</th>\n",
              "      <th>FTM</th>\n",
              "      <th>FTA</th>\n",
              "      <th>FT%</th>\n",
              "      <th>OREB</th>\n",
              "      <th>DREB</th>\n",
              "      <th>REB</th>\n",
              "      <th>AST</th>\n",
              "      <th>STL</th>\n",
              "      <th>BLK</th>\n",
              "      <th>TOV</th>\n",
              "      <th>TARGET_5Yrs</th>\n",
              "    </tr>\n",
              "  </thead>\n",
              "  <tbody>\n",
              "    <tr>\n",
              "      <th>0</th>\n",
              "      <td>36</td>\n",
              "      <td>27.4</td>\n",
              "      <td>7.4</td>\n",
              "      <td>2.6</td>\n",
              "      <td>7.6</td>\n",
              "      <td>34.7</td>\n",
              "      <td>0.5</td>\n",
              "      <td>2.1</td>\n",
              "      <td>25.0</td>\n",
              "      <td>1.6</td>\n",
              "      <td>2.3</td>\n",
              "      <td>69.9</td>\n",
              "      <td>0.7</td>\n",
              "      <td>3.4</td>\n",
              "      <td>4.1</td>\n",
              "      <td>1.9</td>\n",
              "      <td>0.4</td>\n",
              "      <td>0.4</td>\n",
              "      <td>1.3</td>\n",
              "      <td>0.0</td>\n",
              "    </tr>\n",
              "    <tr>\n",
              "      <th>1</th>\n",
              "      <td>35</td>\n",
              "      <td>26.9</td>\n",
              "      <td>7.2</td>\n",
              "      <td>2.0</td>\n",
              "      <td>6.7</td>\n",
              "      <td>29.6</td>\n",
              "      <td>0.7</td>\n",
              "      <td>2.8</td>\n",
              "      <td>23.5</td>\n",
              "      <td>2.6</td>\n",
              "      <td>3.4</td>\n",
              "      <td>76.5</td>\n",
              "      <td>0.5</td>\n",
              "      <td>2.0</td>\n",
              "      <td>2.4</td>\n",
              "      <td>3.7</td>\n",
              "      <td>1.1</td>\n",
              "      <td>0.5</td>\n",
              "      <td>1.6</td>\n",
              "      <td>0.0</td>\n",
              "    </tr>\n",
              "    <tr>\n",
              "      <th>2</th>\n",
              "      <td>74</td>\n",
              "      <td>15.3</td>\n",
              "      <td>5.2</td>\n",
              "      <td>2.0</td>\n",
              "      <td>4.7</td>\n",
              "      <td>42.2</td>\n",
              "      <td>0.4</td>\n",
              "      <td>1.7</td>\n",
              "      <td>24.4</td>\n",
              "      <td>0.9</td>\n",
              "      <td>1.3</td>\n",
              "      <td>67.0</td>\n",
              "      <td>0.5</td>\n",
              "      <td>1.7</td>\n",
              "      <td>2.2</td>\n",
              "      <td>1.0</td>\n",
              "      <td>0.5</td>\n",
              "      <td>0.3</td>\n",
              "      <td>1.0</td>\n",
              "      <td>0.0</td>\n",
              "    </tr>\n",
              "    <tr>\n",
              "      <th>3</th>\n",
              "      <td>58</td>\n",
              "      <td>11.6</td>\n",
              "      <td>5.7</td>\n",
              "      <td>2.3</td>\n",
              "      <td>5.5</td>\n",
              "      <td>42.6</td>\n",
              "      <td>0.1</td>\n",
              "      <td>0.5</td>\n",
              "      <td>22.6</td>\n",
              "      <td>0.9</td>\n",
              "      <td>1.3</td>\n",
              "      <td>68.9</td>\n",
              "      <td>1.0</td>\n",
              "      <td>0.9</td>\n",
              "      <td>1.9</td>\n",
              "      <td>0.8</td>\n",
              "      <td>0.6</td>\n",
              "      <td>0.1</td>\n",
              "      <td>1.0</td>\n",
              "      <td>1.0</td>\n",
              "    </tr>\n",
              "    <tr>\n",
              "      <th>4</th>\n",
              "      <td>48</td>\n",
              "      <td>11.5</td>\n",
              "      <td>4.5</td>\n",
              "      <td>1.6</td>\n",
              "      <td>3.0</td>\n",
              "      <td>52.4</td>\n",
              "      <td>0.0</td>\n",
              "      <td>0.1</td>\n",
              "      <td>0.0</td>\n",
              "      <td>1.3</td>\n",
              "      <td>1.9</td>\n",
              "      <td>67.4</td>\n",
              "      <td>1.0</td>\n",
              "      <td>1.5</td>\n",
              "      <td>2.5</td>\n",
              "      <td>0.3</td>\n",
              "      <td>0.3</td>\n",
              "      <td>0.4</td>\n",
              "      <td>0.8</td>\n",
              "      <td>1.0</td>\n",
              "    </tr>\n",
              "  </tbody>\n",
              "</table>\n",
              "</div>\n",
              "      <button class=\"colab-df-convert\" onclick=\"convertToInteractive('df-21892e42-c0da-479c-affe-2a0b757b6b17')\"\n",
              "              title=\"Convert this dataframe to an interactive table.\"\n",
              "              style=\"display:none;\">\n",
              "        \n",
              "  <svg xmlns=\"http://www.w3.org/2000/svg\" height=\"24px\"viewBox=\"0 0 24 24\"\n",
              "       width=\"24px\">\n",
              "    <path d=\"M0 0h24v24H0V0z\" fill=\"none\"/>\n",
              "    <path d=\"M18.56 5.44l.94 2.06.94-2.06 2.06-.94-2.06-.94-.94-2.06-.94 2.06-2.06.94zm-11 1L8.5 8.5l.94-2.06 2.06-.94-2.06-.94L8.5 2.5l-.94 2.06-2.06.94zm10 10l.94 2.06.94-2.06 2.06-.94-2.06-.94-.94-2.06-.94 2.06-2.06.94z\"/><path d=\"M17.41 7.96l-1.37-1.37c-.4-.4-.92-.59-1.43-.59-.52 0-1.04.2-1.43.59L10.3 9.45l-7.72 7.72c-.78.78-.78 2.05 0 2.83L4 21.41c.39.39.9.59 1.41.59.51 0 1.02-.2 1.41-.59l7.78-7.78 2.81-2.81c.8-.78.8-2.07 0-2.86zM5.41 20L4 18.59l7.72-7.72 1.47 1.35L5.41 20z\"/>\n",
              "  </svg>\n",
              "      </button>\n",
              "      \n",
              "  <style>\n",
              "    .colab-df-container {\n",
              "      display:flex;\n",
              "      flex-wrap:wrap;\n",
              "      gap: 12px;\n",
              "    }\n",
              "\n",
              "    .colab-df-convert {\n",
              "      background-color: #E8F0FE;\n",
              "      border: none;\n",
              "      border-radius: 50%;\n",
              "      cursor: pointer;\n",
              "      display: none;\n",
              "      fill: #1967D2;\n",
              "      height: 32px;\n",
              "      padding: 0 0 0 0;\n",
              "      width: 32px;\n",
              "    }\n",
              "\n",
              "    .colab-df-convert:hover {\n",
              "      background-color: #E2EBFA;\n",
              "      box-shadow: 0px 1px 2px rgba(60, 64, 67, 0.3), 0px 1px 3px 1px rgba(60, 64, 67, 0.15);\n",
              "      fill: #174EA6;\n",
              "    }\n",
              "\n",
              "    [theme=dark] .colab-df-convert {\n",
              "      background-color: #3B4455;\n",
              "      fill: #D2E3FC;\n",
              "    }\n",
              "\n",
              "    [theme=dark] .colab-df-convert:hover {\n",
              "      background-color: #434B5C;\n",
              "      box-shadow: 0px 1px 3px 1px rgba(0, 0, 0, 0.15);\n",
              "      filter: drop-shadow(0px 1px 2px rgba(0, 0, 0, 0.3));\n",
              "      fill: #FFFFFF;\n",
              "    }\n",
              "  </style>\n",
              "\n",
              "      <script>\n",
              "        const buttonEl =\n",
              "          document.querySelector('#df-21892e42-c0da-479c-affe-2a0b757b6b17 button.colab-df-convert');\n",
              "        buttonEl.style.display =\n",
              "          google.colab.kernel.accessAllowed ? 'block' : 'none';\n",
              "\n",
              "        async function convertToInteractive(key) {\n",
              "          const element = document.querySelector('#df-21892e42-c0da-479c-affe-2a0b757b6b17');\n",
              "          const dataTable =\n",
              "            await google.colab.kernel.invokeFunction('convertToInteractive',\n",
              "                                                     [key], {});\n",
              "          if (!dataTable) return;\n",
              "\n",
              "          const docLinkHtml = 'Like what you see? Visit the ' +\n",
              "            '<a target=\"_blank\" href=https://colab.research.google.com/notebooks/data_table.ipynb>data table notebook</a>'\n",
              "            + ' to learn more about interactive tables.';\n",
              "          element.innerHTML = '';\n",
              "          dataTable['output_type'] = 'display_data';\n",
              "          await google.colab.output.renderOutput(dataTable, element);\n",
              "          const docLink = document.createElement('div');\n",
              "          docLink.innerHTML = docLinkHtml;\n",
              "          element.appendChild(docLink);\n",
              "        }\n",
              "      </script>\n",
              "    </div>\n",
              "  </div>\n",
              "  "
            ],
            "text/plain": [
              "   GP   MIN  PTS  FGM  FGA   FG%  ...  REB  AST  STL  BLK  TOV  TARGET_5Yrs\n",
              "0  36  27.4  7.4  2.6  7.6  34.7  ...  4.1  1.9  0.4  0.4  1.3          0.0\n",
              "1  35  26.9  7.2  2.0  6.7  29.6  ...  2.4  3.7  1.1  0.5  1.6          0.0\n",
              "2  74  15.3  5.2  2.0  4.7  42.2  ...  2.2  1.0  0.5  0.3  1.0          0.0\n",
              "3  58  11.6  5.7  2.3  5.5  42.6  ...  1.9  0.8  0.6  0.1  1.0          1.0\n",
              "4  48  11.5  4.5  1.6  3.0  52.4  ...  2.5  0.3  0.3  0.4  0.8          1.0\n",
              "\n",
              "[5 rows x 20 columns]"
            ]
          },
          "metadata": {},
          "execution_count": 82
        }
      ]
    },
    {
      "cell_type": "code",
      "source": [
        "#games played vs points made\n",
        "sns.relplot(x=\"GP\", y= \"PTS\", data=updated_df)"
      ],
      "metadata": {
        "colab": {
          "base_uri": "https://localhost:8080/",
          "height": 386
        },
        "id": "vLLzoDlRgFIZ",
        "outputId": "3a569f58-c0a5-4d2e-d364-bbb05d7eafa4"
      },
      "execution_count": 83,
      "outputs": [
        {
          "output_type": "execute_result",
          "data": {
            "text/plain": [
              "<seaborn.axisgrid.FacetGrid at 0x7fa65360d5d0>"
            ]
          },
          "metadata": {},
          "execution_count": 83
        },
        {
          "output_type": "display_data",
          "data": {
            "image/png": "[encoded data removed]",
            "text/plain": [
              "<Figure size 360x360 with 1 Axes>"
            ]
          },
          "metadata": {
            "needs_background": "light"
          }
        }
      ]
    },
    {
      "cell_type": "markdown",
      "source": [
        "**OUTLIERS : DETECT AND REMOVE**"
      ],
      "metadata": {
        "id": "PmB4FQx5VzBc"
      }
    },
    {
      "cell_type": "code",
      "source": [
        "# OUTLIERS IN PTS\n",
        "import seaborn as sns\n",
        "import matplotlib.pyplot as plt\n",
        "sns.boxplot(x=updated_df['PTS'])"
      ],
      "metadata": {
        "colab": {
          "base_uri": "https://localhost:8080/",
          "height": 296
        },
        "id": "fZvUHPxBXPlW",
        "outputId": "dbb66824-d1a3-4208-e1d6-48c60b358795"
      },
      "execution_count": 84,
      "outputs": [
        {
          "output_type": "execute_result",
          "data": {
            "text/plain": [
              "<matplotlib.axes._subplots.AxesSubplot at 0x7fa653555e50>"
            ]
          },
          "metadata": {},
          "execution_count": 84
        },
        {
          "output_type": "display_data",
          "data": {
            "image/png": "[encoded data removed]",
            "text/plain": [
              "<Figure size 432x288 with 1 Axes>"
            ]
          },
          "metadata": {
            "needs_background": "light"
          }
        }
      ]
    },
    {
      "cell_type": "code",
      "source": [
        "#OUTLIERS IN FGA\n",
        "sns.boxplot(x=updated_df['FGA'])"
      ],
      "metadata": {
        "colab": {
          "base_uri": "https://localhost:8080/",
          "height": 296
        },
        "id": "lMRIi8Laa5j4",
        "outputId": "747d3984-1c93-43ce-9581-f3f0576a4a5c"
      },
      "execution_count": 85,
      "outputs": [
        {
          "output_type": "execute_result",
          "data": {
            "text/plain": [
              "<matplotlib.axes._subplots.AxesSubplot at 0x7fa652cd8d90>"
            ]
          },
          "metadata": {},
          "execution_count": 85
        },
        {
          "output_type": "display_data",
          "data": {
            "image/png": "[encoded data removed]",
            "text/plain": [
              "<Figure size 432x288 with 1 Axes>"
            ]
          },
          "metadata": {
            "needs_background": "light"
          }
        }
      ]
    },
    {
      "cell_type": "code",
      "source": [
        "#OUTLIERS IN COLUMN 3PA\n",
        "sns.boxplot(x = updated_df['3PA'])"
      ],
      "metadata": {
        "colab": {
          "base_uri": "https://localhost:8080/",
          "height": 296
        },
        "id": "ME29GFJXbNdl",
        "outputId": "54fdbe8a-58dc-45ff-f393-e701a3b5d5c2"
      },
      "execution_count": 86,
      "outputs": [
        {
          "output_type": "execute_result",
          "data": {
            "text/plain": [
              "<matplotlib.axes._subplots.AxesSubplot at 0x7fa6535dce90>"
            ]
          },
          "metadata": {},
          "execution_count": 86
        },
        {
          "output_type": "display_data",
          "data": {
            "image/png": "[encoded data removed]",
            "text/plain": [
              "<Figure size 432x288 with 1 Axes>"
            ]
          },
          "metadata": {
            "needs_background": "light"
          }
        }
      ]
    },
    {
      "cell_type": "code",
      "source": [
        "sns.boxplot(x = updated_df['FTM'])"
      ],
      "metadata": {
        "colab": {
          "base_uri": "https://localhost:8080/",
          "height": 296
        },
        "id": "uNwdGddMbtMH",
        "outputId": "2fb3588e-9afd-4698-e00d-fd7591e34a54"
      },
      "execution_count": 87,
      "outputs": [
        {
          "output_type": "execute_result",
          "data": {
            "text/plain": [
              "<matplotlib.axes._subplots.AxesSubplot at 0x7fa652c0a310>"
            ]
          },
          "metadata": {},
          "execution_count": 87
        },
        {
          "output_type": "display_data",
          "data": {
            "image/png": "[encoded data removed]",
            "text/plain": [
              "<Figure size 432x288 with 1 Axes>"
            ]
          },
          "metadata": {
            "needs_background": "light"
          }
        }
      ]
    },
    {
      "cell_type": "code",
      "source": [
        "sns.boxplot(x = updated_df['FTA'])"
      ],
      "metadata": {
        "colab": {
          "base_uri": "https://localhost:8080/",
          "height": 296
        },
        "id": "8rgtCuUMcFpo",
        "outputId": "ff5c64a6-76c2-4da7-d659-ca67d82fbda8"
      },
      "execution_count": 88,
      "outputs": [
        {
          "output_type": "execute_result",
          "data": {
            "text/plain": [
              "<matplotlib.axes._subplots.AxesSubplot at 0x7fa652bd0c90>"
            ]
          },
          "metadata": {},
          "execution_count": 88
        },
        {
          "output_type": "display_data",
          "data": {
            "image/png": "[encoded data removed]",
            "text/plain": [
              "<Figure size 432x288 with 1 Axes>"
            ]
          },
          "metadata": {
            "needs_background": "light"
          }
        }
      ]
    },
    {
      "cell_type": "markdown",
      "source": [
        ""
      ],
      "metadata": {
        "id": "-ZBCs3ADHN1I"
      }
    },
    {
      "cell_type": "code",
      "source": [
        "sns.boxplot(x = updated_df['STL'])"
      ],
      "metadata": {
        "colab": {
          "base_uri": "https://localhost:8080/",
          "height": 296
        },
        "id": "k6qEfogXcs0M",
        "outputId": "0d0faa0c-22ef-4219-fced-8f76f22d6dd6"
      },
      "execution_count": 89,
      "outputs": [
        {
          "output_type": "execute_result",
          "data": {
            "text/plain": [
              "<matplotlib.axes._subplots.AxesSubplot at 0x7fa652b5d6d0>"
            ]
          },
          "metadata": {},
          "execution_count": 89
        },
        {
          "output_type": "display_data",
          "data": {
            "image/png": "[encoded data removed]",
            "text/plain": [
              "<Figure size 432x288 with 1 Axes>"
            ]
          },
          "metadata": {
            "needs_background": "light"
          }
        }
      ]
    },
    {
      "cell_type": "markdown",
      "source": [
        "# **Z-SCORE IMPLEMENTATION**"
      ],
      "metadata": {
        "id": "ni3gRE8DdSu7"
      }
    },
    {
      "cell_type": "code",
      "source": [
        "from scipy import stats\n",
        "zscore = np.abs(stats.zscore(updated_df))\n",
        "print(zscore)"
      ],
      "metadata": {
        "colab": {
          "base_uri": "https://localhost:8080/"
        },
        "id": "uX5ZCw9VdWfG",
        "outputId": "7204db27-14aa-4583-c828-4bf1d4cfabf2"
      },
      "execution_count": 90,
      "outputs": [
        {
          "output_type": "stream",
          "name": "stdout",
          "text": [
            "[[1.40090082 1.17706613 0.13740097 ... 0.07325418 0.14733795 1.27773744]\n",
            " [1.45828144 1.11686044 0.09148643 ... 0.30641476 0.56269458 1.27773744]\n",
            " [0.77956287 0.27991152 0.36765896 ... 0.1599064  0.26801868 1.27773744]\n",
            " ...\n",
            " [0.99923645 0.66522792 0.32174442 ... 0.07325418 0.40647089 1.27773744]\n",
            " [0.48281084 0.67726906 0.52835985 ... 0.62622755 0.5449231  0.7826334 ]\n",
            " [0.76971396 0.71339247 0.55131712 ... 0.62622755 0.40647089 0.7826334 ]]\n"
          ]
        }
      ]
    },
    {
      "cell_type": "code",
      "source": [
        "threshold = 3\n",
        "print(np.where(zscore > 3))"
      ],
      "metadata": {
        "colab": {
          "base_uri": "https://localhost:8080/"
        },
        "id": "8syf8ta2dwUt",
        "outputId": "3c445a4c-5072-4ddd-b117-40feb9acf856"
      },
      "execution_count": 91,
      "outputs": [
        {
          "output_type": "stream",
          "name": "stdout",
          "text": [
            "(array([  12,   18,   18,   18,   19,   19,   19,   22,   45,   61,   63,\n",
            "         65,   65,   65,   65,   65,   67,   67,   68,   68,   69,   76,\n",
            "        118,  118,  118,  118,  118,  118,  118,  118,  120,  120,  121,\n",
            "        121,  123,  124,  150,  150,  150,  172,  172,  177,  181,  181,\n",
            "        181,  181,  181,  181,  182,  182,  187,  190,  190,  190,  212,\n",
            "        236,  236,  237,  240,  272,  272,  272,  272,  272,  272,  272,\n",
            "        273,  273,  274,  275,  276,  301,  303,  314,  314,  314,  314,\n",
            "        314,  314,  314,  315,  316,  316,  318,  352,  352,  352,  352,\n",
            "        352,  352,  352,  354,  400,  400,  400,  400,  400,  400,  400,\n",
            "        400,  402,  402,  409,  441,  442,  442,  442,  442,  442,  442,\n",
            "        442,  443,  443,  443,  443,  443,  443,  458,  485,  490,  490,\n",
            "        490,  490,  490,  491,  491,  491,  492,  492,  492,  492,  494,\n",
            "        494,  494,  496,  497,  497,  536,  537,  537,  537,  538,  538,\n",
            "        538,  540,  545,  555,  585,  585,  585,  586,  586,  588,  597,\n",
            "        626,  626,  632,  632,  666,  666,  666,  666,  666,  666,  666,\n",
            "        667,  667,  667,  676,  692,  697,  697,  697,  698,  698,  698,\n",
            "        699,  699,  704,  704,  719,  719,  719,  728,  739,  739,  740,\n",
            "        741,  741,  742,  743,  743,  744,  746,  748,  761,  761,  764,\n",
            "        764,  776,  776,  776,  782,  809,  852,  852,  852,  852,  855,\n",
            "        885,  887,  889,  889,  889,  889,  891,  891,  891,  891,  893,\n",
            "        918,  920,  920,  920,  920,  920,  920,  921,  921,  921,  921,\n",
            "        922,  922,  922,  926,  955,  962,  962,  990,  995,  995,  999,\n",
            "       1026, 1028, 1028, 1053, 1055, 1055, 1055, 1055, 1055, 1055, 1056,\n",
            "       1057, 1057, 1057, 1057, 1071, 1081, 1087, 1087, 1087, 1087, 1089,\n",
            "       1090, 1090, 1091, 1092, 1093, 1093, 1093, 1107, 1107, 1109, 1123,\n",
            "       1125, 1125, 1132, 1157, 1157, 1157, 1157, 1157, 1157, 1157, 1157,\n",
            "       1157, 1157, 1158, 1158, 1158, 1159, 1160, 1160, 1161, 1161, 1161,\n",
            "       1162, 1163, 1164, 1164, 1174, 1190, 1190, 1190, 1190, 1192, 1192,\n",
            "       1192, 1192, 1193, 1195, 1199, 1228, 1228, 1228, 1229, 1229, 1229,\n",
            "       1229, 1229, 1229, 1230, 1230, 1230, 1230, 1230, 1230, 1233, 1233,\n",
            "       1235, 1235, 1240, 1253, 1267, 1267, 1267, 1268, 1269, 1269, 1270,\n",
            "       1270, 1272, 1280, 1308, 1308, 1308, 1308, 1308, 1308, 1308, 1308,\n",
            "       1308, 1310, 1310, 1310, 1310, 1311, 1311, 1312, 1312, 1312, 1312,\n",
            "       1312, 1312, 1312, 1327]), array([11, 12, 13, 14, 12, 13, 14, 16,  8, 11, 13,  9, 10, 12, 13, 14,  6,\n",
            "        7, 15, 16, 12, 17,  2,  3,  9, 10, 12, 13, 14, 17, 15, 16, 15, 16,\n",
            "       15, 15, 15, 16, 18,  6,  7,  5,  2,  3,  4,  9, 10, 18,  3, 16,  4,\n",
            "       15, 16, 18, 11, 15, 16, 15, 15,  2,  3,  4,  9, 10, 16, 18,  3, 13,\n",
            "       17, 13, 15,  5, 11,  2,  3,  9, 10, 13, 17, 18, 12, 13, 18, 17,  2,\n",
            "        3,  4,  9, 10, 16, 18, 17,  2,  3,  4, 12, 13, 14, 17, 18, 15, 18,\n",
            "       17, 11,  2,  3,  4, 10, 12, 13, 14,  2,  3,  4, 12, 13, 14, 17, 11,\n",
            "        2,  3,  9, 10, 18, 12, 13, 14, 10, 15, 16, 18,  2,  3,  4, 17, 13,\n",
            "       14, 14,  2,  3,  4, 12, 13, 14, 15, 17, 17,  6,  7, 15,  6,  7, 17,\n",
            "       11,  6,  7,  6,  7,  2,  3,  4,  9, 10, 13, 14,  9, 15, 18,  6,  5,\n",
            "        2,  9, 10,  6,  7, 16,  6,  7,  6,  7, 13, 14, 17,  5,  6,  7, 15,\n",
            "        6,  7,  9,  6, 16, 17,  6, 12,  5, 11,  6,  7,  2,  4,  9,  7, 11,\n",
            "        9, 10, 15, 16,  6,  5, 11, 12, 13, 14, 17, 12, 13, 14, 17, 17, 11,\n",
            "        2,  3,  4,  9, 10, 18,  2,  4,  9, 10,  6,  7, 15, 15, 10,  6,  7,\n",
            "       11, 15, 18, 17, 17,  6,  7,  8,  2,  3,  9, 10, 12, 14, 18,  6,  7,\n",
            "       15, 18,  6, 17,  6,  7, 15, 16, 15,  6,  7, 15,  6, 12, 13, 14,  6,\n",
            "        7,  5,  4, 15, 16,  7,  2,  3,  4,  6,  7,  9, 10, 15, 16, 18,  6,\n",
            "        7, 16, 12,  9, 10,  6,  7, 15,  6, 17,  6,  7,  8,  6,  7, 15, 18,\n",
            "        7,  9, 10, 18, 12, 15,  6,  2,  9, 10,  2,  3,  4,  9, 10, 18,  2,\n",
            "        3,  4,  9, 10, 18, 15, 16,  6, 16,  6,  8, 15, 16, 18,  4,  6,  7,\n",
            "       12, 17, 12, 12,  2,  3,  9, 10, 12, 13, 14, 17, 18,  9, 10, 13, 18,\n",
            "       13, 14,  2,  9, 10, 12, 13, 14, 17, 17]))\n"
          ]
        }
      ]
    },
    {
      "cell_type": "markdown",
      "source": [
        "# REMOVING OUTLIERS"
      ],
      "metadata": {
        "id": "lUKlxI2seeU7"
      }
    },
    {
      "cell_type": "code",
      "source": [
        "clean_df = updated_df\n",
        "clean_df = clean_df[(zscore < 3).all(axis=1)]"
      ],
      "metadata": {
        "id": "dYQFanUfedds"
      },
      "execution_count": 92,
      "outputs": []
    },
    {
      "cell_type": "code",
      "source": [
        "#shape before z-score\n",
        "updated_df.shape"
      ],
      "metadata": {
        "colab": {
          "base_uri": "https://localhost:8080/"
        },
        "id": "R-2qUBVde5oS",
        "outputId": "b1a62c73-8d78-495a-9404-91e6adb95d81"
      },
      "execution_count": 93,
      "outputs": [
        {
          "output_type": "execute_result",
          "data": {
            "text/plain": [
              "(1340, 20)"
            ]
          },
          "metadata": {},
          "execution_count": 93
        }
      ]
    },
    {
      "cell_type": "code",
      "source": [
        "#shape after z-score\n",
        "clean_df.shape"
      ],
      "metadata": {
        "colab": {
          "base_uri": "https://localhost:8080/"
        },
        "id": "mUzvj2iZfBJO",
        "outputId": "496e74dc-2bfe-4390-d53a-55b091ec89b6"
      },
      "execution_count": 94,
      "outputs": [
        {
          "output_type": "execute_result",
          "data": {
            "text/plain": [
              "(1182, 20)"
            ]
          },
          "metadata": {},
          "execution_count": 94
        }
      ]
    },
    {
      "cell_type": "code",
      "source": [
        "x = clean_df.iloc[:,0:19]# splitting the variables from the target\n",
        "y = clean_df.iloc[:, -1]# separating target from other variables"
      ],
      "metadata": {
        "id": "yuIO8s3SgDyG"
      },
      "execution_count": 95,
      "outputs": []
    },
    {
      "cell_type": "markdown",
      "source": [
        "# Scalling the data"
      ],
      "metadata": {
        "id": "8p6vM-rpgyYg"
      }
    },
    {
      "cell_type": "code",
      "source": [
        "# Scaling all the variables to a range of 0 to 1\n",
        "from sklearn.preprocessing import MinMaxScaler\n",
        "features = x.columns.values\n",
        "scaler = MinMaxScaler(feature_range = (0,1))\n",
        "scaler.fit(x)\n",
        "x = pd.DataFrame(scaler.transform(x))\n",
        "x.columns = features"
      ],
      "metadata": {
        "id": "JNIInnM9g0zf"
      },
      "execution_count": 96,
      "outputs": []
    },
    {
      "cell_type": "code",
      "source": [
        "x"
      ],
      "metadata": {
        "colab": {
          "base_uri": "https://localhost:8080/",
          "height": 423
        },
        "id": "rvZUNAz-hHNL",
        "outputId": "8e58967e-9f26-4602-9462-f4b39da55689"
      },
      "execution_count": 97,
      "outputs": [
        {
          "output_type": "execute_result",
          "data": {
            "text/html": [
              "\n",
              "  <div id=\"df-7aa91f7e-f299-4d16-9250-bcbbe32cf6d6\">\n",
              "    <div class=\"colab-df-container\">\n",
              "      <div>\n",
              "<style scoped>\n",
              "    .dataframe tbody tr th:only-of-type {\n",
              "        vertical-align: middle;\n",
              "    }\n",
              "\n",
              "    .dataframe tbody tr th {\n",
              "        vertical-align: top;\n",
              "    }\n",
              "\n",
              "    .dataframe thead th {\n",
              "        text-align: right;\n",
              "    }\n",
              "</style>\n",
              "<table border=\"1\" class=\"dataframe\">\n",
              "  <thead>\n",
              "    <tr style=\"text-align: right;\">\n",
              "      <th></th>\n",
              "      <th>GP</th>\n",
              "      <th>MIN</th>\n",
              "      <th>PTS</th>\n",
              "      <th>FGM</th>\n",
              "      <th>FGA</th>\n",
              "      <th>FG%</th>\n",
              "      <th>3P Made</th>\n",
              "      <th>3PA</th>\n",
              "      <th>3P%</th>\n",
              "      <th>FTM</th>\n",
              "      <th>FTA</th>\n",
              "      <th>FT%</th>\n",
              "      <th>OREB</th>\n",
              "      <th>DREB</th>\n",
              "      <th>REB</th>\n",
              "      <th>AST</th>\n",
              "      <th>STL</th>\n",
              "      <th>BLK</th>\n",
              "      <th>TOV</th>\n",
              "    </tr>\n",
              "  </thead>\n",
              "  <tbody>\n",
              "    <tr>\n",
              "      <th>0</th>\n",
              "      <td>0.352113</td>\n",
              "      <td>0.654494</td>\n",
              "      <td>0.372222</td>\n",
              "      <td>0.319444</td>\n",
              "      <td>0.444444</td>\n",
              "      <td>0.222543</td>\n",
              "      <td>0.384615</td>\n",
              "      <td>0.552632</td>\n",
              "      <td>0.374813</td>\n",
              "      <td>0.365854</td>\n",
              "      <td>0.392857</td>\n",
              "      <td>0.500000</td>\n",
              "      <td>0.212121</td>\n",
              "      <td>0.551724</td>\n",
              "      <td>0.431818</td>\n",
              "      <td>0.327586</td>\n",
              "      <td>0.222222</td>\n",
              "      <td>0.2500</td>\n",
              "      <td>0.37500</td>\n",
              "    </tr>\n",
              "    <tr>\n",
              "      <th>1</th>\n",
              "      <td>0.338028</td>\n",
              "      <td>0.640449</td>\n",
              "      <td>0.361111</td>\n",
              "      <td>0.236111</td>\n",
              "      <td>0.385621</td>\n",
              "      <td>0.075145</td>\n",
              "      <td>0.538462</td>\n",
              "      <td>0.736842</td>\n",
              "      <td>0.352324</td>\n",
              "      <td>0.609756</td>\n",
              "      <td>0.589286</td>\n",
              "      <td>0.609635</td>\n",
              "      <td>0.151515</td>\n",
              "      <td>0.310345</td>\n",
              "      <td>0.238636</td>\n",
              "      <td>0.637931</td>\n",
              "      <td>0.611111</td>\n",
              "      <td>0.3125</td>\n",
              "      <td>0.46875</td>\n",
              "    </tr>\n",
              "    <tr>\n",
              "      <th>2</th>\n",
              "      <td>0.887324</td>\n",
              "      <td>0.314607</td>\n",
              "      <td>0.250000</td>\n",
              "      <td>0.236111</td>\n",
              "      <td>0.254902</td>\n",
              "      <td>0.439306</td>\n",
              "      <td>0.307692</td>\n",
              "      <td>0.447368</td>\n",
              "      <td>0.365817</td>\n",
              "      <td>0.195122</td>\n",
              "      <td>0.214286</td>\n",
              "      <td>0.451827</td>\n",
              "      <td>0.151515</td>\n",
              "      <td>0.258621</td>\n",
              "      <td>0.215909</td>\n",
              "      <td>0.172414</td>\n",
              "      <td>0.277778</td>\n",
              "      <td>0.1875</td>\n",
              "      <td>0.28125</td>\n",
              "    </tr>\n",
              "    <tr>\n",
              "      <th>3</th>\n",
              "      <td>0.661972</td>\n",
              "      <td>0.210674</td>\n",
              "      <td>0.277778</td>\n",
              "      <td>0.277778</td>\n",
              "      <td>0.307190</td>\n",
              "      <td>0.450867</td>\n",
              "      <td>0.076923</td>\n",
              "      <td>0.131579</td>\n",
              "      <td>0.338831</td>\n",
              "      <td>0.195122</td>\n",
              "      <td>0.214286</td>\n",
              "      <td>0.483389</td>\n",
              "      <td>0.303030</td>\n",
              "      <td>0.120690</td>\n",
              "      <td>0.181818</td>\n",
              "      <td>0.137931</td>\n",
              "      <td>0.333333</td>\n",
              "      <td>0.0625</td>\n",
              "      <td>0.28125</td>\n",
              "    </tr>\n",
              "    <tr>\n",
              "      <th>4</th>\n",
              "      <td>0.521127</td>\n",
              "      <td>0.207865</td>\n",
              "      <td>0.211111</td>\n",
              "      <td>0.180556</td>\n",
              "      <td>0.143791</td>\n",
              "      <td>0.734104</td>\n",
              "      <td>0.000000</td>\n",
              "      <td>0.026316</td>\n",
              "      <td>0.000000</td>\n",
              "      <td>0.292683</td>\n",
              "      <td>0.321429</td>\n",
              "      <td>0.458472</td>\n",
              "      <td>0.303030</td>\n",
              "      <td>0.224138</td>\n",
              "      <td>0.250000</td>\n",
              "      <td>0.051724</td>\n",
              "      <td>0.166667</td>\n",
              "      <td>0.2500</td>\n",
              "      <td>0.21875</td>\n",
              "    </tr>\n",
              "    <tr>\n",
              "      <th>...</th>\n",
              "      <td>...</td>\n",
              "      <td>...</td>\n",
              "      <td>...</td>\n",
              "      <td>...</td>\n",
              "      <td>...</td>\n",
              "      <td>...</td>\n",
              "      <td>...</td>\n",
              "      <td>...</td>\n",
              "      <td>...</td>\n",
              "      <td>...</td>\n",
              "      <td>...</td>\n",
              "      <td>...</td>\n",
              "      <td>...</td>\n",
              "      <td>...</td>\n",
              "      <td>...</td>\n",
              "      <td>...</td>\n",
              "      <td>...</td>\n",
              "      <td>...</td>\n",
              "      <td>...</td>\n",
              "    </tr>\n",
              "    <tr>\n",
              "      <th>1177</th>\n",
              "      <td>0.971831</td>\n",
              "      <td>0.328652</td>\n",
              "      <td>0.200000</td>\n",
              "      <td>0.180556</td>\n",
              "      <td>0.183007</td>\n",
              "      <td>0.471098</td>\n",
              "      <td>0.000000</td>\n",
              "      <td>0.052632</td>\n",
              "      <td>0.214393</td>\n",
              "      <td>0.268293</td>\n",
              "      <td>0.250000</td>\n",
              "      <td>0.654485</td>\n",
              "      <td>0.121212</td>\n",
              "      <td>0.103448</td>\n",
              "      <td>0.102273</td>\n",
              "      <td>0.431034</td>\n",
              "      <td>0.333333</td>\n",
              "      <td>0.1250</td>\n",
              "      <td>0.21875</td>\n",
              "    </tr>\n",
              "    <tr>\n",
              "      <th>1178</th>\n",
              "      <td>0.802817</td>\n",
              "      <td>0.238764</td>\n",
              "      <td>0.177778</td>\n",
              "      <td>0.166667</td>\n",
              "      <td>0.215686</td>\n",
              "      <td>0.254335</td>\n",
              "      <td>0.076923</td>\n",
              "      <td>0.184211</td>\n",
              "      <td>0.250375</td>\n",
              "      <td>0.170732</td>\n",
              "      <td>0.160714</td>\n",
              "      <td>0.657807</td>\n",
              "      <td>0.121212</td>\n",
              "      <td>0.155172</td>\n",
              "      <td>0.136364</td>\n",
              "      <td>0.396552</td>\n",
              "      <td>0.444444</td>\n",
              "      <td>0.0000</td>\n",
              "      <td>0.37500</td>\n",
              "    </tr>\n",
              "    <tr>\n",
              "      <th>1179</th>\n",
              "      <td>0.450704</td>\n",
              "      <td>0.224719</td>\n",
              "      <td>0.261111</td>\n",
              "      <td>0.263889</td>\n",
              "      <td>0.202614</td>\n",
              "      <td>0.809249</td>\n",
              "      <td>0.000000</td>\n",
              "      <td>0.000000</td>\n",
              "      <td>0.000000</td>\n",
              "      <td>0.219512</td>\n",
              "      <td>0.267857</td>\n",
              "      <td>0.406977</td>\n",
              "      <td>0.454545</td>\n",
              "      <td>0.362069</td>\n",
              "      <td>0.397727</td>\n",
              "      <td>0.051724</td>\n",
              "      <td>0.166667</td>\n",
              "      <td>0.2500</td>\n",
              "      <td>0.25000</td>\n",
              "    </tr>\n",
              "    <tr>\n",
              "      <th>1180</th>\n",
              "      <td>0.577465</td>\n",
              "      <td>0.221910</td>\n",
              "      <td>0.211111</td>\n",
              "      <td>0.194444</td>\n",
              "      <td>0.196078</td>\n",
              "      <td>0.488439</td>\n",
              "      <td>0.000000</td>\n",
              "      <td>0.052632</td>\n",
              "      <td>0.149925</td>\n",
              "      <td>0.268293</td>\n",
              "      <td>0.303571</td>\n",
              "      <td>0.377076</td>\n",
              "      <td>0.060606</td>\n",
              "      <td>0.034483</td>\n",
              "      <td>0.045455</td>\n",
              "      <td>0.379310</td>\n",
              "      <td>0.222222</td>\n",
              "      <td>0.0625</td>\n",
              "      <td>0.21875</td>\n",
              "    </tr>\n",
              "    <tr>\n",
              "      <th>1181</th>\n",
              "      <td>0.507042</td>\n",
              "      <td>0.213483</td>\n",
              "      <td>0.205556</td>\n",
              "      <td>0.180556</td>\n",
              "      <td>0.235294</td>\n",
              "      <td>0.286127</td>\n",
              "      <td>0.307692</td>\n",
              "      <td>0.342105</td>\n",
              "      <td>0.499250</td>\n",
              "      <td>0.146341</td>\n",
              "      <td>0.160714</td>\n",
              "      <td>0.456811</td>\n",
              "      <td>0.060606</td>\n",
              "      <td>0.086207</td>\n",
              "      <td>0.068182</td>\n",
              "      <td>0.241379</td>\n",
              "      <td>0.388889</td>\n",
              "      <td>0.0625</td>\n",
              "      <td>0.25000</td>\n",
              "    </tr>\n",
              "  </tbody>\n",
              "</table>\n",
              "<p>1182 rows × 19 columns</p>\n",
              "</div>\n",
              "      <button class=\"colab-df-convert\" onclick=\"convertToInteractive('df-7aa91f7e-f299-4d16-9250-bcbbe32cf6d6')\"\n",
              "              title=\"Convert this dataframe to an interactive table.\"\n",
              "              style=\"display:none;\">\n",
              "        \n",
              "  <svg xmlns=\"http://www.w3.org/2000/svg\" height=\"24px\"viewBox=\"0 0 24 24\"\n",
              "       width=\"24px\">\n",
              "    <path d=\"M0 0h24v24H0V0z\" fill=\"none\"/>\n",
              "    <path d=\"M18.56 5.44l.94 2.06.94-2.06 2.06-.94-2.06-.94-.94-2.06-.94 2.06-2.06.94zm-11 1L8.5 8.5l.94-2.06 2.06-.94-2.06-.94L8.5 2.5l-.94 2.06-2.06.94zm10 10l.94 2.06.94-2.06 2.06-.94-2.06-.94-.94-2.06-.94 2.06-2.06.94z\"/><path d=\"M17.41 7.96l-1.37-1.37c-.4-.4-.92-.59-1.43-.59-.52 0-1.04.2-1.43.59L10.3 9.45l-7.72 7.72c-.78.78-.78 2.05 0 2.83L4 21.41c.39.39.9.59 1.41.59.51 0 1.02-.2 1.41-.59l7.78-7.78 2.81-2.81c.8-.78.8-2.07 0-2.86zM5.41 20L4 18.59l7.72-7.72 1.47 1.35L5.41 20z\"/>\n",
              "  </svg>\n",
              "      </button>\n",
              "      \n",
              "  <style>\n",
              "    .colab-df-container {\n",
              "      display:flex;\n",
              "      flex-wrap:wrap;\n",
              "      gap: 12px;\n",
              "    }\n",
              "\n",
              "    .colab-df-convert {\n",
              "      background-color: #E8F0FE;\n",
              "      border: none;\n",
              "      border-radius: 50%;\n",
              "      cursor: pointer;\n",
              "      display: none;\n",
              "      fill: #1967D2;\n",
              "      height: 32px;\n",
              "      padding: 0 0 0 0;\n",
              "      width: 32px;\n",
              "    }\n",
              "\n",
              "    .colab-df-convert:hover {\n",
              "      background-color: #E2EBFA;\n",
              "      box-shadow: 0px 1px 2px rgba(60, 64, 67, 0.3), 0px 1px 3px 1px rgba(60, 64, 67, 0.15);\n",
              "      fill: #174EA6;\n",
              "    }\n",
              "\n",
              "    [theme=dark] .colab-df-convert {\n",
              "      background-color: #3B4455;\n",
              "      fill: #D2E3FC;\n",
              "    }\n",
              "\n",
              "    [theme=dark] .colab-df-convert:hover {\n",
              "      background-color: #434B5C;\n",
              "      box-shadow: 0px 1px 3px 1px rgba(0, 0, 0, 0.15);\n",
              "      filter: drop-shadow(0px 1px 2px rgba(0, 0, 0, 0.3));\n",
              "      fill: #FFFFFF;\n",
              "    }\n",
              "  </style>\n",
              "\n",
              "      <script>\n",
              "        const buttonEl =\n",
              "          document.querySelector('#df-7aa91f7e-f299-4d16-9250-bcbbe32cf6d6 button.colab-df-convert');\n",
              "        buttonEl.style.display =\n",
              "          google.colab.kernel.accessAllowed ? 'block' : 'none';\n",
              "\n",
              "        async function convertToInteractive(key) {\n",
              "          const element = document.querySelector('#df-7aa91f7e-f299-4d16-9250-bcbbe32cf6d6');\n",
              "          const dataTable =\n",
              "            await google.colab.kernel.invokeFunction('convertToInteractive',\n",
              "                                                     [key], {});\n",
              "          if (!dataTable) return;\n",
              "\n",
              "          const docLinkHtml = 'Like what you see? Visit the ' +\n",
              "            '<a target=\"_blank\" href=https://colab.research.google.com/notebooks/data_table.ipynb>data table notebook</a>'\n",
              "            + ' to learn more about interactive tables.';\n",
              "          element.innerHTML = '';\n",
              "          dataTable['output_type'] = 'display_data';\n",
              "          await google.colab.output.renderOutput(dataTable, element);\n",
              "          const docLink = document.createElement('div');\n",
              "          docLink.innerHTML = docLinkHtml;\n",
              "          element.appendChild(docLink);\n",
              "        }\n",
              "      </script>\n",
              "    </div>\n",
              "  </div>\n",
              "  "
            ],
            "text/plain": [
              "            GP       MIN       PTS  ...       STL     BLK      TOV\n",
              "0     0.352113  0.654494  0.372222  ...  0.222222  0.2500  0.37500\n",
              "1     0.338028  0.640449  0.361111  ...  0.611111  0.3125  0.46875\n",
              "2     0.887324  0.314607  0.250000  ...  0.277778  0.1875  0.28125\n",
              "3     0.661972  0.210674  0.277778  ...  0.333333  0.0625  0.28125\n",
              "4     0.521127  0.207865  0.211111  ...  0.166667  0.2500  0.21875\n",
              "...        ...       ...       ...  ...       ...     ...      ...\n",
              "1177  0.971831  0.328652  0.200000  ...  0.333333  0.1250  0.21875\n",
              "1178  0.802817  0.238764  0.177778  ...  0.444444  0.0000  0.37500\n",
              "1179  0.450704  0.224719  0.261111  ...  0.166667  0.2500  0.25000\n",
              "1180  0.577465  0.221910  0.211111  ...  0.222222  0.0625  0.21875\n",
              "1181  0.507042  0.213483  0.205556  ...  0.388889  0.0625  0.25000\n",
              "\n",
              "[1182 rows x 19 columns]"
            ]
          },
          "metadata": {},
          "execution_count": 97
        }
      ]
    },
    {
      "cell_type": "markdown",
      "source": [
        "# Splitting train and test sest"
      ],
      "metadata": {
        "id": "sfO_welzfRYR"
      }
    },
    {
      "cell_type": "code",
      "source": [
        "from sklearn.model_selection import train_test_split"
      ],
      "metadata": {
        "id": "2A7kyYA3fpbA"
      },
      "execution_count": 98,
      "outputs": []
    },
    {
      "cell_type": "code",
      "source": [
        "x_train ,x_test , y_train ,y_test = train_test_split(x, y, train_size= 0.90, random_state=1)"
      ],
      "metadata": {
        "id": "hT0wxZGDf74b"
      },
      "execution_count": 99,
      "outputs": []
    },
    {
      "cell_type": "markdown",
      "source": [
        "# MODEL DEVELOPMENT"
      ],
      "metadata": {
        "id": "07Pu3SzIhZN_"
      }
    },
    {
      "cell_type": "code",
      "source": [
        "from sklearn.linear_model import LogisticRegression\n",
        "from sklearn.metrics import classification_report, confusion_matrix"
      ],
      "metadata": {
        "id": "_x_rTzx3hqDD"
      },
      "execution_count": 100,
      "outputs": []
    },
    {
      "cell_type": "code",
      "source": [
        "model = LogisticRegression(solver='liblinear', random_state=0)"
      ],
      "metadata": {
        "id": "Lb3mPePChv42"
      },
      "execution_count": 101,
      "outputs": []
    },
    {
      "cell_type": "code",
      "source": [
        "model.fit(x_train , y_train)"
      ],
      "metadata": {
        "colab": {
          "base_uri": "https://localhost:8080/"
        },
        "id": "DHFDpws-h6za",
        "outputId": "a002bd3f-8edd-4a00-c4ee-dd1174fa9b3b"
      },
      "execution_count": 102,
      "outputs": [
        {
          "output_type": "execute_result",
          "data": {
            "text/plain": [
              "LogisticRegression(random_state=0, solver='liblinear')"
            ]
          },
          "metadata": {},
          "execution_count": 102
        }
      ]
    },
    {
      "cell_type": "code",
      "source": [
        "predicted = model.predict(x_test)"
      ],
      "metadata": {
        "id": "e7AWnYEaiHJw"
      },
      "execution_count": 103,
      "outputs": []
    },
    {
      "cell_type": "code",
      "source": [
        "#model_proba\n",
        "model.predict_proba(x_test)"
      ],
      "metadata": {
        "colab": {
          "base_uri": "https://localhost:8080/"
        },
        "id": "_7M66z5giQHy",
        "outputId": "73c13d1c-9f44-436b-eb6f-11251c6581e9"
      },
      "execution_count": 104,
      "outputs": [
        {
          "output_type": "execute_result",
          "data": {
            "text/plain": [
              "array([[0.16127073, 0.83872927],\n",
              "       [0.39742412, 0.60257588],\n",
              "       [0.50578835, 0.49421165],\n",
              "       [0.15005342, 0.84994658],\n",
              "       [0.68539753, 0.31460247],\n",
              "       [0.62272268, 0.37727732],\n",
              "       [0.51924455, 0.48075545],\n",
              "       [0.58516199, 0.41483801],\n",
              "       [0.79616521, 0.20383479],\n",
              "       [0.56264158, 0.43735842],\n",
              "       [0.35844056, 0.64155944],\n",
              "       [0.48015856, 0.51984144],\n",
              "       [0.25724767, 0.74275233],\n",
              "       [0.13605346, 0.86394654],\n",
              "       [0.48510954, 0.51489046],\n",
              "       [0.15398751, 0.84601249],\n",
              "       [0.48820036, 0.51179964],\n",
              "       [0.5060349 , 0.4939651 ],\n",
              "       [0.25817807, 0.74182193],\n",
              "       [0.39533046, 0.60466954],\n",
              "       [0.16302396, 0.83697604],\n",
              "       [0.43228608, 0.56771392],\n",
              "       [0.28487706, 0.71512294],\n",
              "       [0.37934967, 0.62065033],\n",
              "       [0.12183261, 0.87816739],\n",
              "       [0.48295067, 0.51704933],\n",
              "       [0.22084779, 0.77915221],\n",
              "       [0.24711205, 0.75288795],\n",
              "       [0.12690978, 0.87309022],\n",
              "       [0.45745296, 0.54254704],\n",
              "       [0.45859645, 0.54140355],\n",
              "       [0.13604594, 0.86395406],\n",
              "       [0.53512752, 0.46487248],\n",
              "       [0.20670982, 0.79329018],\n",
              "       [0.60445782, 0.39554218],\n",
              "       [0.37900476, 0.62099524],\n",
              "       [0.04649587, 0.95350413],\n",
              "       [0.43973532, 0.56026468],\n",
              "       [0.62603533, 0.37396467],\n",
              "       [0.38990199, 0.61009801],\n",
              "       [0.60116725, 0.39883275],\n",
              "       [0.54654525, 0.45345475],\n",
              "       [0.63068379, 0.36931621],\n",
              "       [0.57723457, 0.42276543],\n",
              "       [0.6353778 , 0.3646222 ],\n",
              "       [0.58422586, 0.41577414],\n",
              "       [0.50846991, 0.49153009],\n",
              "       [0.58799157, 0.41200843],\n",
              "       [0.60009141, 0.39990859],\n",
              "       [0.69973438, 0.30026562],\n",
              "       [0.54244668, 0.45755332],\n",
              "       [0.46354715, 0.53645285],\n",
              "       [0.07328211, 0.92671789],\n",
              "       [0.67216911, 0.32783089],\n",
              "       [0.4319523 , 0.5680477 ],\n",
              "       [0.38740682, 0.61259318],\n",
              "       [0.28144392, 0.71855608],\n",
              "       [0.21675196, 0.78324804],\n",
              "       [0.37206737, 0.62793263],\n",
              "       [0.55977402, 0.44022598],\n",
              "       [0.45855403, 0.54144597],\n",
              "       [0.44630764, 0.55369236],\n",
              "       [0.44738457, 0.55261543],\n",
              "       [0.53277762, 0.46722238],\n",
              "       [0.47968754, 0.52031246],\n",
              "       [0.09247548, 0.90752452],\n",
              "       [0.28342296, 0.71657704],\n",
              "       [0.19889186, 0.80110814],\n",
              "       [0.35623911, 0.64376089],\n",
              "       [0.42900124, 0.57099876],\n",
              "       [0.60903728, 0.39096272],\n",
              "       [0.34060497, 0.65939503],\n",
              "       [0.43388753, 0.56611247],\n",
              "       [0.39513491, 0.60486509],\n",
              "       [0.17671447, 0.82328553],\n",
              "       [0.63051174, 0.36948826],\n",
              "       [0.4082007 , 0.5917993 ],\n",
              "       [0.58241674, 0.41758326],\n",
              "       [0.26997063, 0.73002937],\n",
              "       [0.65997469, 0.34002531],\n",
              "       [0.34223493, 0.65776507],\n",
              "       [0.32257334, 0.67742666],\n",
              "       [0.38347636, 0.61652364],\n",
              "       [0.54644824, 0.45355176],\n",
              "       [0.454292  , 0.545708  ],\n",
              "       [0.59130141, 0.40869859],\n",
              "       [0.32576273, 0.67423727],\n",
              "       [0.27633095, 0.72366905],\n",
              "       [0.43513951, 0.56486049],\n",
              "       [0.20946387, 0.79053613],\n",
              "       [0.55239641, 0.44760359],\n",
              "       [0.52672889, 0.47327111],\n",
              "       [0.56571782, 0.43428218],\n",
              "       [0.47429787, 0.52570213],\n",
              "       [0.16049175, 0.83950825],\n",
              "       [0.42093037, 0.57906963],\n",
              "       [0.18063269, 0.81936731],\n",
              "       [0.41177792, 0.58822208],\n",
              "       [0.53679678, 0.46320322],\n",
              "       [0.38258329, 0.61741671],\n",
              "       [0.20319862, 0.79680138],\n",
              "       [0.07729601, 0.92270399],\n",
              "       [0.30939316, 0.69060684],\n",
              "       [0.43424129, 0.56575871],\n",
              "       [0.45785955, 0.54214045],\n",
              "       [0.53363233, 0.46636767],\n",
              "       [0.31339292, 0.68660708],\n",
              "       [0.23871151, 0.76128849],\n",
              "       [0.26103243, 0.73896757],\n",
              "       [0.15529587, 0.84470413],\n",
              "       [0.3369864 , 0.6630136 ],\n",
              "       [0.35972105, 0.64027895],\n",
              "       [0.41733593, 0.58266407],\n",
              "       [0.15632394, 0.84367606],\n",
              "       [0.25817807, 0.74182193],\n",
              "       [0.12082699, 0.87917301],\n",
              "       [0.24420257, 0.75579743],\n",
              "       [0.2643978 , 0.7356022 ],\n",
              "       [0.36846155, 0.63153845]])"
            ]
          },
          "metadata": {},
          "execution_count": 104
        }
      ]
    },
    {
      "cell_type": "code",
      "source": [
        "#model score\n",
        "model.score(x_test , y_test)"
      ],
      "metadata": {
        "colab": {
          "base_uri": "https://localhost:8080/"
        },
        "id": "74IzrLBjicS5",
        "outputId": "7302e7cf-4db2-4ad7-fdf0-dfb9736ab18f"
      },
      "execution_count": 105,
      "outputs": [
        {
          "output_type": "execute_result",
          "data": {
            "text/plain": [
              "0.680672268907563"
            ]
          },
          "metadata": {},
          "execution_count": 105
        }
      ]
    },
    {
      "cell_type": "code",
      "source": [
        "predicted"
      ],
      "metadata": {
        "colab": {
          "base_uri": "https://localhost:8080/"
        },
        "id": "DQ9aSrHpine2",
        "outputId": "e14a8eca-a635-46be-f1a6-1cb6385b2b39"
      },
      "execution_count": 106,
      "outputs": [
        {
          "output_type": "execute_result",
          "data": {
            "text/plain": [
              "array([1., 1., 0., 1., 0., 0., 0., 0., 0., 0., 1., 1., 1., 1., 1., 1., 1.,\n",
              "       0., 1., 1., 1., 1., 1., 1., 1., 1., 1., 1., 1., 1., 1., 1., 0., 1.,\n",
              "       0., 1., 1., 1., 0., 1., 0., 0., 0., 0., 0., 0., 0., 0., 0., 0., 0.,\n",
              "       1., 1., 0., 1., 1., 1., 1., 1., 0., 1., 1., 1., 0., 1., 1., 1., 1.,\n",
              "       1., 1., 0., 1., 1., 1., 1., 0., 1., 0., 1., 0., 1., 1., 1., 0., 1.,\n",
              "       0., 1., 1., 1., 1., 0., 0., 0., 1., 1., 1., 1., 1., 0., 1., 1., 1.,\n",
              "       1., 1., 1., 0., 1., 1., 1., 1., 1., 1., 1., 1., 1., 1., 1., 1., 1.])"
            ]
          },
          "metadata": {},
          "execution_count": 106
        }
      ]
    },
    {
      "cell_type": "code",
      "source": [
        ""
      ],
      "metadata": {
        "id": "VR_4p5SWjFrE"
      },
      "execution_count": null,
      "outputs": []
    },
    {
      "cell_type": "code",
      "source": [
        "y_test "
      ],
      "metadata": {
        "colab": {
          "base_uri": "https://localhost:8080/"
        },
        "id": "eCWWcEfrisaf",
        "outputId": "4eedeab8-fb27-4bf6-ecc4-cf70890438b0"
      },
      "execution_count": 107,
      "outputs": [
        {
          "output_type": "execute_result",
          "data": {
            "text/plain": [
              "1029    1.0\n",
              "337     0.0\n",
              "1036    0.0\n",
              "364     1.0\n",
              "267     0.0\n",
              "       ... \n",
              "971     1.0\n",
              "539     1.0\n",
              "942     1.0\n",
              "23      0.0\n",
              "389     0.0\n",
              "Name: TARGET_5Yrs, Length: 119, dtype: float64"
            ]
          },
          "metadata": {},
          "execution_count": 107
        }
      ]
    },
    {
      "cell_type": "markdown",
      "source": [
        ""
      ],
      "metadata": {
        "id": "p3dqFwh4jFUK"
      }
    },
    {
      "cell_type": "markdown",
      "source": [
        "model.coef  indicates the value of m in y=mx + b equation"
      ],
      "metadata": {
        "id": "2bWupSH1i-JP"
      }
    },
    {
      "cell_type": "code",
      "source": [
        "model.coef_"
      ],
      "metadata": {
        "colab": {
          "base_uri": "https://localhost:8080/"
        },
        "id": "1k0P8MT8jQ2v",
        "outputId": "e3126262-7ea7-4407-bb2e-9fa68779b95a"
      },
      "execution_count": 108,
      "outputs": [
        {
          "output_type": "execute_result",
          "data": {
            "text/plain": [
              "array([[ 2.32202944, -0.8623308 ,  0.52800428,  0.47354177,  0.16936705,\n",
              "         0.23643497,  0.45565904, -0.92620168,  0.23956834,  0.56080371,\n",
              "        -0.11478255,  0.64562029,  1.42405766, -0.33364435,  0.37091173,\n",
              "         0.70492543,  0.11243224,  0.59798339, -0.4248919 ]])"
            ]
          },
          "metadata": {},
          "execution_count": 108
        }
      ]
    },
    {
      "cell_type": "markdown",
      "source": [
        "# model.intercept_ indicates value of b in y=m*x + b equation"
      ],
      "metadata": {
        "id": "gRMAZIuNjWM5"
      }
    },
    {
      "cell_type": "code",
      "source": [
        "model.intercept_"
      ],
      "metadata": {
        "colab": {
          "base_uri": "https://localhost:8080/"
        },
        "id": "ws8siPNtjaYI",
        "outputId": "06e78f3e-55df-41e2-ebd1-1e8bd10b3420"
      },
      "execution_count": 109,
      "outputs": [
        {
          "output_type": "execute_result",
          "data": {
            "text/plain": [
              "array([-2.27796975])"
            ]
          },
          "metadata": {},
          "execution_count": 109
        }
      ]
    },
    {
      "cell_type": "markdown",
      "source": [
        "# Lets defined sigmoid function now and do the math with hand"
      ],
      "metadata": {
        "id": "XTf465HzjhLC"
      }
    },
    {
      "cell_type": "code",
      "source": [
        "import math\n",
        "def sigmoid(x):\n",
        "  return 1 / (1 + math.exp(-x))"
      ],
      "metadata": {
        "id": "wsIckJ1TjlRT"
      },
      "execution_count": 110,
      "outputs": []
    },
    {
      "cell_type": "code",
      "source": [
        "sns.scatterplot(y_test, predicted)"
      ],
      "metadata": {
        "colab": {
          "base_uri": "https://localhost:8080/",
          "height": 352
        },
        "id": "reO_yy6RjqFC",
        "outputId": "5b48bede-59c0-44e5-ad0c-c7f5ff1bc44a"
      },
      "execution_count": 111,
      "outputs": [
        {
          "output_type": "stream",
          "name": "stderr",
          "text": [
            "/usr/local/lib/python3.7/dist-packages/seaborn/_decorators.py:43: FutureWarning: Pass the following variables as keyword args: x, y. From version 0.12, the only valid positional argument will be `data`, and passing other arguments without an explicit keyword will result in an error or misinterpretation.\n",
            "  FutureWarning\n"
          ]
        },
        {
          "output_type": "execute_result",
          "data": {
            "text/plain": [
              "<matplotlib.axes._subplots.AxesSubplot at 0x7fa652af2a90>"
            ]
          },
          "metadata": {},
          "execution_count": 111
        },
        {
          "output_type": "display_data",
          "data": {
            "image/png": "[encoded data removed]",
            "text/plain": [
              "<Figure size 432x288 with 1 Axes>"
            ]
          },
          "metadata": {
            "needs_background": "light"
          }
        }
      ]
    },
    {
      "cell_type": "markdown",
      "source": [
        "# IMPROVING THE MODEL WITH GRID SEARCH"
      ],
      "metadata": {
        "id": "8Vwn7Yysl0Qw"
      }
    },
    {
      "cell_type": "code",
      "source": [
        "#DEFINING GRID SEARCH PARAMETERS"
      ],
      "metadata": {
        "id": "-xz8A1gjl7yw"
      },
      "execution_count": 62,
      "outputs": []
    },
    {
      "cell_type": "code",
      "source": [
        "param_grid_lr = {\n",
        "    'max_iter': [20, 50, 100, 200, 500, 1000],                      \n",
        "    'solver': ['newton-cg', 'lbfgs', 'liblinear', 'sag', 'saga'],   \n",
        "    'class_weight': ['balanced']                                    \n",
        "}"
      ],
      "metadata": {
        "id": "9hcX2pY0l88g"
      },
      "execution_count": 112,
      "outputs": []
    },
    {
      "cell_type": "code",
      "source": [
        "#max_iter is the number of iterations.\n",
        "#solver is the algorithm to use for optimization.\n",
        "#class_weight is to troubleshoot unbalanced data sampling"
      ],
      "metadata": {
        "id": "eL3E2UU_l802"
      },
      "execution_count": 113,
      "outputs": []
    },
    {
      "cell_type": "code",
      "source": [
        "#Hyperparameter Tune using Training Data\n",
        "from sklearn.linear_model import LogisticRegression\n",
        "from sklearn.model_selection import GridSearchCV\n",
        "logModel_grid = GridSearchCV(estimator=LogisticRegression(random_state=1234), param_grid=param_grid_lr, verbose=1, cv=10, n_jobs=-1)\n",
        "\n",
        "\n",
        "logModel_grid.fit(x_train, y_train)\n",
        "print(logModel_grid.best_estimator_)"
      ],
      "metadata": {
        "colab": {
          "base_uri": "https://localhost:8080/"
        },
        "id": "B8Ul6NYbl8sN",
        "outputId": "7fd17271-dacf-4c17-b635-8a4cc5c79fc7"
      },
      "execution_count": 114,
      "outputs": [
        {
          "output_type": "stream",
          "name": "stdout",
          "text": [
            "Fitting 10 folds for each of 30 candidates, totalling 300 fits\n",
            "LogisticRegression(class_weight='balanced', max_iter=20, random_state=1234,\n",
            "                   solver='liblinear')\n"
          ]
        }
      ]
    },
    {
      "cell_type": "code",
      "source": [
        "#Predict on Testing Data"
      ],
      "metadata": {
        "id": "QXS3dGfNl8eK"
      },
      "execution_count": 116,
      "outputs": []
    },
    {
      "cell_type": "code",
      "source": [
        "#applying grid search cv\n",
        "y_pred = logModel_grid.predict(x_test)\n",
        "print(y_pred)"
      ],
      "metadata": {
        "colab": {
          "base_uri": "https://localhost:8080/"
        },
        "id": "RGauL87Bnd4B",
        "outputId": "2fdda10b-3401-4ed1-e63f-86e89aaa1e76"
      },
      "execution_count": 117,
      "outputs": [
        {
          "output_type": "stream",
          "name": "stdout",
          "text": [
            "[1. 1. 0. 1. 0. 0. 0. 0. 0. 0. 1. 0. 1. 1. 0. 1. 0. 0. 1. 1. 1. 0. 1. 1.\n",
            " 1. 0. 1. 1. 1. 0. 0. 1. 0. 1. 0. 1. 1. 0. 0. 1. 0. 0. 0. 0. 0. 0. 0. 0.\n",
            " 0. 0. 0. 0. 1. 0. 0. 1. 1. 1. 1. 0. 0. 0. 0. 0. 0. 1. 1. 1. 1. 0. 0. 1.\n",
            " 0. 1. 1. 0. 1. 0. 1. 0. 1. 1. 1. 0. 0. 0. 1. 1. 0. 1. 0. 0. 0. 0. 1. 0.\n",
            " 1. 0. 0. 1. 1. 1. 1. 0. 0. 0. 1. 1. 1. 1. 1. 1. 0. 1. 1. 1. 1. 1. 1.]\n"
          ]
        }
      ]
    },
    {
      "cell_type": "code",
      "source": [
        "from sklearn.metrics import confusion_matrix\n",
        "print(confusion_matrix(y_test, y_pred), \": is the confusion matrix \\n\")"
      ],
      "metadata": {
        "colab": {
          "base_uri": "https://localhost:8080/"
        },
        "id": "A-zsk8hBlDn7",
        "outputId": "2c8d8c1e-6725-4fac-a3a0-9a49dd6e5941"
      },
      "execution_count": 118,
      "outputs": [
        {
          "output_type": "stream",
          "name": "stdout",
          "text": [
            "[[35 17]\n",
            " [25 42]] : is the confusion matrix \n",
            "\n"
          ]
        }
      ]
    },
    {
      "cell_type": "code",
      "source": [
        "from sklearn.metrics import accuracy_score\n",
        "print(accuracy_score(y_test, y_pred), \": is the accuracy score\")"
      ],
      "metadata": {
        "colab": {
          "base_uri": "https://localhost:8080/"
        },
        "id": "it2jll0hlQbZ",
        "outputId": "bcddf999-50bb-488b-b5e4-f51b6aae6c68"
      },
      "execution_count": 120,
      "outputs": [
        {
          "output_type": "stream",
          "name": "stdout",
          "text": [
            "0.6470588235294118 : is the accuracy score\n"
          ]
        }
      ]
    },
    {
      "cell_type": "code",
      "source": [
        "from sklearn.metrics import precision_score\n",
        "print(precision_score(y_test, predicted), \": is the precision score\")"
      ],
      "metadata": {
        "colab": {
          "base_uri": "https://localhost:8080/"
        },
        "id": "I8e9kIBelUAf",
        "outputId": "81967910-af97-4781-cd67-e0cc054d47b0"
      },
      "execution_count": 121,
      "outputs": [
        {
          "output_type": "stream",
          "name": "stdout",
          "text": [
            "0.6746987951807228 : is the precision score\n"
          ]
        }
      ]
    },
    {
      "cell_type": "code",
      "source": [
        "from sklearn.metrics import recall_score\n",
        "print(recall_score(y_test, predicted), \": is the recall score\")"
      ],
      "metadata": {
        "colab": {
          "base_uri": "https://localhost:8080/"
        },
        "id": "NAgR7_IHlZhb",
        "outputId": "571bcaba-06fc-49ea-fa0f-666c889ed78f"
      },
      "execution_count": 122,
      "outputs": [
        {
          "output_type": "stream",
          "name": "stdout",
          "text": [
            "0.835820895522388 : is the recall score\n"
          ]
        }
      ]
    },
    {
      "cell_type": "code",
      "source": [
        "from sklearn.metrics import f1_score\n",
        "print(f1_score(y_test, predicted), \": is the f1 score\")"
      ],
      "metadata": {
        "colab": {
          "base_uri": "https://localhost:8080/"
        },
        "id": "NdAUkzbTlg7r",
        "outputId": "cd651608-0fec-4968-c9a7-ebfe88f7d878"
      },
      "execution_count": 123,
      "outputs": [
        {
          "output_type": "stream",
          "name": "stdout",
          "text": [
            "0.7466666666666666 : is the f1 score\n"
          ]
        }
      ]
    }
  ]
}